{
 "cells": [
  {
   "cell_type": "code",
   "execution_count": 3,
   "metadata": {},
   "outputs": [],
   "source": [
    "#raw CSV data from generatedata.com\n",
    "\n",
    "age,occupation,credit rating,label\n",
    "middle_aged,student,excellent,sell\n",
    "senior,worker,fair,sell\n",
    "youth,worker,excellent,sell\n",
    "middle_aged,worker,fair,dont_sell\n",
    "youth,worker,fair,sell\n",
    "senior,worker,fair,sell\n",
    "youth,worker,fair,sell\n",
    "middle_aged,student,excellent,dont_sell\n",
    "youth,student,fair,sell\n",
    "youth,worker,excellent,sell\n",
    "youth,student,fair,sell\n",
    "senior,student,excellent,dont_sell\n",
    "senior,worker,fair,sell\n",
    "youth,student,excellent,dont_sell\n",
    "senior,student,fair,sell\n",
    "senior,worker,fair,sell\n",
    "middle_aged,student,fair,sell\n",
    "youth,worker,fair,sell\n",
    "middle_aged,student,fair,dont_sell\n",
    "youth,student,fair,dont_sell\n",
    "senior,student,excellent,dont_sell\n",
    "youth,student,fair,dont_sell\n",
    "youth,worker,excellent,dont_sell\n",
    "youth,student,excellent,dont_sell\n",
    "middle_aged,student,fair,dont_sell\n",
    "middle_aged,worker,fair,sell\n",
    "middle_aged,student,excellent,dont_sell\n",
    "senior,student,excellent,dont_sell\n",
    "senior,worker,excellent,sell\n",
    "senior,worker,excellent,sell\n",
    "middle_aged,worker,fair,sell\n",
    "senior,worker,fair,dont_sell\n",
    "youth,worker,fair,sell\n",
    "youth,worker,excellent,sell\n",
    "senior,worker,fair,sell\n",
    "middle_aged,student,fair,sell\n",
    "youth,student,excellent,dont_sell\n",
    "youth,student,fair,dont_sell\n",
    "youth,student,fair,dont_sell\n",
    "senior,student,fair,dont_sell\n",
    "senior,student,fair,dont_sell\n",
    "middle_aged,student,excellent,sell\n",
    "senior,worker,excellent,sell\n",
    "youth,student,excellent,dont_sell\n",
    "youth,student,fair,sell\n",
    "middle_aged,student,fair,dont_sell\n",
    "senior,student,fair,dont_sell\n",
    "middle_aged,student,fair,dont_sell\n",
    "youth,worker,fair,sell\n",
    "middle_aged,student,fair,dont_sell\n",
    "youth,worker,fair,dont_sell\n",
    "youth,student,fair,sell\n",
    "middle_aged,worker,fair,dont_sell\n",
    "youth,worker,fair,dont_sell\n",
    "middle_aged,worker,excellent,dont_sell\n",
    "middle_aged,student,fair,dont_sell\n",
    "senior,student,excellent,sell\n",
    "middle_aged,worker,fair,dont_sell\n",
    "senior,worker,excellent,dont_sell\n",
    "youth,worker,fair,sell\n",
    "senior,student,fair,dont_sell\n",
    "senior,student,fair,dont_sell\n",
    "middle_aged,worker,fair,sell\n",
    "youth,student,excellent,dont_sell\n",
    "middle_aged,worker,fair,sell\n",
    "middle_aged,worker,excellent,sell\n",
    "youth,student,fair,dont_sell\n",
    "youth,student,excellent,sell\n",
    "senior,worker,fair,dont_sell\n",
    "senior,worker,fair,sell\n",
    "youth,student,excellent,dont_sell\n",
    "youth,worker,fair,dont_sell\n",
    "middle_aged,student,excellent,sell\n",
    "middle_aged,student,excellent,sell\n",
    "youth,worker,fair,dont_sell\n",
    "senior,worker,excellent,sell\n",
    "youth,worker,fair,dont_sell\n",
    "senior,worker,fair,sell\n",
    "senior,student,fair,sell\n",
    "middle_aged,worker,excellent,dont_sell\n",
    "senior,student,excellent,dont_sell\n",
    "youth,student,excellent,dont_sell\n",
    "middle_aged,student,fair,sell\n",
    "middle_aged,worker,excellent,sell\n",
    "middle_aged,student,fair,dont_sell\n",
    "youth,student,fair,dont_sell\n",
    "youth,worker,excellent,dont_sell\n",
    "senior,student,excellent,dont_sell\n",
    "middle_aged,student,fair,dont_sell\n",
    "senior,worker,fair,dont_sell\n",
    "middle_aged,student,fair,dont_sell\n",
    "senior,worker,fair,dont_sell\n",
    "senior,worker,excellent,dont_sell\n",
    "senior,worker,fair,sell\n",
    "youth,worker,excellent,sell\n",
    "youth,student,fair,dont_sell\n",
    "senior,student,excellent,sell\n",
    "senior,worker,excellent,dont_sell\n",
    "senior,worker,fair,dont_sell\n",
    "senior,worker,fair,sell\n",
    "\n"
   ]
  },
  {
   "cell_type": "code",
   "execution_count": 8,
   "metadata": {},
   "outputs": [],
   "source": [
    "#convert raw CSV data into a list of lists\n",
    "import csv\n",
    "data = []\n",
    "with open('TutData.txt', newline='') as inputfile:\n",
    "    for row in csv.reader(inputfile):\n",
    "        data.append(row)"
   ]
  },
  {
   "cell_type": "code",
   "execution_count": 9,
   "metadata": {},
   "outputs": [
    {
     "data": {
      "text/plain": [
       "[['age', 'occupation', 'credit rating', 'label'],\n",
       " ['middle_aged', 'student', 'excellent', 'sell'],\n",
       " ['senior', 'worker', 'fair', 'sell'],\n",
       " ['youth', 'worker', 'excellent', 'sell'],\n",
       " ['middle_aged', 'worker', 'fair', 'dont_sell'],\n",
       " ['youth', 'worker', 'fair', 'sell'],\n",
       " ['senior', 'worker', 'fair', 'sell'],\n",
       " ['youth', 'worker', 'fair', 'sell'],\n",
       " ['middle_aged', 'student', 'excellent', 'dont_sell'],\n",
       " ['youth', 'student', 'fair', 'sell'],\n",
       " ['youth', 'worker', 'excellent', 'sell'],\n",
       " ['youth', 'student', 'fair', 'sell'],\n",
       " ['senior', 'student', 'excellent', 'dont_sell'],\n",
       " ['senior', 'worker', 'fair', 'sell'],\n",
       " ['youth', 'student', 'excellent', 'dont_sell'],\n",
       " ['senior', 'student', 'fair', 'sell'],\n",
       " ['senior', 'worker', 'fair', 'sell'],\n",
       " ['middle_aged', 'student', 'fair', 'sell'],\n",
       " ['youth', 'worker', 'fair', 'sell'],\n",
       " ['middle_aged', 'student', 'fair', 'dont_sell'],\n",
       " ['youth', 'student', 'fair', 'dont_sell'],\n",
       " ['senior', 'student', 'excellent', 'dont_sell'],\n",
       " ['youth', 'student', 'fair', 'dont_sell'],\n",
       " ['youth', 'worker', 'excellent', 'dont_sell'],\n",
       " ['youth', 'student', 'excellent', 'dont_sell'],\n",
       " ['middle_aged', 'student', 'fair', 'dont_sell'],\n",
       " ['middle_aged', 'worker', 'fair', 'sell'],\n",
       " ['middle_aged', 'student', 'excellent', 'dont_sell'],\n",
       " ['senior', 'student', 'excellent', 'dont_sell'],\n",
       " ['senior', 'worker', 'excellent', 'sell'],\n",
       " ['senior', 'worker', 'excellent', 'sell'],\n",
       " ['middle_aged', 'worker', 'fair', 'sell'],\n",
       " ['senior', 'worker', 'fair', 'dont_sell'],\n",
       " ['youth', 'worker', 'fair', 'sell'],\n",
       " ['youth', 'worker', 'excellent', 'sell'],\n",
       " ['senior', 'worker', 'fair', 'sell'],\n",
       " ['middle_aged', 'student', 'fair', 'sell'],\n",
       " ['youth', 'student', 'excellent', 'dont_sell'],\n",
       " ['youth', 'student', 'fair', 'dont_sell'],\n",
       " ['youth', 'student', 'fair', 'dont_sell'],\n",
       " ['senior', 'student', 'fair', 'dont_sell'],\n",
       " ['senior', 'student', 'fair', 'dont_sell'],\n",
       " ['middle_aged', 'student', 'excellent', 'sell'],\n",
       " ['senior', 'worker', 'excellent', 'sell'],\n",
       " ['youth', 'student', 'excellent', 'dont_sell'],\n",
       " ['youth', 'student', 'fair', 'sell'],\n",
       " ['middle_aged', 'student', 'fair', 'dont_sell'],\n",
       " ['senior', 'student', 'fair', 'dont_sell'],\n",
       " ['middle_aged', 'student', 'fair', 'dont_sell'],\n",
       " ['youth', 'worker', 'fair', 'sell'],\n",
       " ['middle_aged', 'student', 'fair', 'dont_sell'],\n",
       " ['youth', 'worker', 'fair', 'dont_sell'],\n",
       " ['youth', 'student', 'fair', 'sell'],\n",
       " ['middle_aged', 'worker', 'fair', 'dont_sell'],\n",
       " ['youth', 'worker', 'fair', 'dont_sell'],\n",
       " ['middle_aged', 'worker', 'excellent', 'dont_sell'],\n",
       " ['middle_aged', 'student', 'fair', 'dont_sell'],\n",
       " ['senior', 'student', 'excellent', 'sell'],\n",
       " ['middle_aged', 'worker', 'fair', 'dont_sell'],\n",
       " ['senior', 'worker', 'excellent', 'dont_sell'],\n",
       " ['youth', 'worker', 'fair', 'sell'],\n",
       " ['senior', 'student', 'fair', 'dont_sell'],\n",
       " ['senior', 'student', 'fair', 'dont_sell'],\n",
       " ['middle_aged', 'worker', 'fair', 'sell'],\n",
       " ['youth', 'student', 'excellent', 'dont_sell'],\n",
       " ['middle_aged', 'worker', 'fair', 'sell'],\n",
       " ['middle_aged', 'worker', 'excellent', 'sell'],\n",
       " ['youth', 'student', 'fair', 'dont_sell'],\n",
       " ['youth', 'student', 'excellent', 'sell'],\n",
       " ['senior', 'worker', 'fair', 'dont_sell'],\n",
       " ['senior', 'worker', 'fair', 'sell'],\n",
       " ['youth', 'student', 'excellent', 'dont_sell'],\n",
       " ['youth', 'worker', 'fair', 'dont_sell'],\n",
       " ['middle_aged', 'student', 'excellent', 'sell'],\n",
       " ['middle_aged', 'student', 'excellent', 'sell'],\n",
       " ['youth', 'worker', 'fair', 'dont_sell'],\n",
       " ['senior', 'worker', 'excellent', 'sell'],\n",
       " ['youth', 'worker', 'fair', 'dont_sell'],\n",
       " ['senior', 'worker', 'fair', 'sell'],\n",
       " ['senior', 'student', 'fair', 'sell'],\n",
       " ['middle_aged', 'worker', 'excellent', 'dont_sell'],\n",
       " ['senior', 'student', 'excellent', 'dont_sell'],\n",
       " ['youth', 'student', 'excellent', 'dont_sell'],\n",
       " ['middle_aged', 'student', 'fair', 'sell'],\n",
       " ['middle_aged', 'worker', 'excellent', 'sell'],\n",
       " ['middle_aged', 'student', 'fair', 'dont_sell'],\n",
       " ['youth', 'student', 'fair', 'dont_sell'],\n",
       " ['youth', 'worker', 'excellent', 'dont_sell'],\n",
       " ['senior', 'student', 'excellent', 'dont_sell'],\n",
       " ['middle_aged', 'student', 'fair', 'dont_sell'],\n",
       " ['senior', 'worker', 'fair', 'dont_sell'],\n",
       " ['middle_aged', 'student', 'fair', 'dont_sell'],\n",
       " ['senior', 'worker', 'fair', 'dont_sell'],\n",
       " ['senior', 'worker', 'excellent', 'dont_sell'],\n",
       " ['senior', 'worker', 'fair', 'sell'],\n",
       " ['youth', 'worker', 'excellent', 'sell'],\n",
       " ['youth', 'student', 'fair', 'dont_sell'],\n",
       " ['senior', 'student', 'excellent', 'sell'],\n",
       " ['senior', 'worker', 'excellent', 'dont_sell'],\n",
       " ['senior', 'worker', 'fair', 'dont_sell'],\n",
       " ['senior', 'worker', 'fair', 'sell']]"
      ]
     },
     "execution_count": 9,
     "metadata": {},
     "output_type": "execute_result"
    }
   ],
   "source": [
    "# Check data\n",
    "data"
   ]
  },
  {
   "cell_type": "code",
   "execution_count": 7,
   "metadata": {},
   "outputs": [],
   "source": [
    "# Column labels.\n",
    "# These are used only to print the tree.\n",
    "header = [\"age\", \"occupation\", \"credit rating\", \"label\"]"
   ]
  },
  {
   "cell_type": "code",
   "execution_count": 11,
   "metadata": {},
   "outputs": [],
   "source": [
    "def unique_vals(rows, col):\n",
    "    \"\"\"Find the unique values for a column in a dataset.\"\"\"\n",
    "    return set([row[col] for row in rows])"
   ]
  },
  {
   "cell_type": "code",
   "execution_count": 20,
   "metadata": {},
   "outputs": [
    {
     "data": {
      "text/plain": [
       "{'age', 'middle_aged', 'senior', 'youth'}"
      ]
     },
     "execution_count": 20,
     "metadata": {},
     "output_type": "execute_result"
    }
   ],
   "source": [
    "#######\n",
    "# Demo:\n",
    "unique_vals(data,0)\n",
    "# unique_vals(training_data, 1)\n",
    "#######"
   ]
  },
  {
   "cell_type": "code",
   "execution_count": 33,
   "metadata": {},
   "outputs": [],
   "source": [
    "def class_counts(rows):\n",
    "    \"\"\"Counts the number of each type of example in a dataset.\"\"\"\n",
    "    counts = {}  # a dictionary of label -> count.\n",
    "    rows = rows[1:] # don't cont the column heading as a label type\n",
    "    for row in rows:\n",
    "        # in our dataset format, the label is always the last column\n",
    "        label = row[-1]\n",
    "        if label not in counts:\n",
    "            counts[label] = 0\n",
    "        counts[label] += 1\n",
    "    return counts"
   ]
  },
  {
   "cell_type": "code",
   "execution_count": 34,
   "metadata": {},
   "outputs": [
    {
     "data": {
      "text/plain": [
       "{'dont_sell': 55, 'sell': 45}"
      ]
     },
     "execution_count": 34,
     "metadata": {},
     "output_type": "execute_result"
    }
   ],
   "source": [
    "#######\n",
    "# Demo:\n",
    "class_counts(data)\n",
    "#######"
   ]
  },
  {
   "cell_type": "code",
   "execution_count": 4,
   "metadata": {},
   "outputs": [],
   "source": [
    "# Use this to draw LaTeX http://webdemo.myscript.com/views/math.html#\n",
    "    "
   ]
  },
  {
   "cell_type": "markdown",
   "metadata": {},
   "source": [
    "$$\n",
    "\\int ^{\\infty }_{0}\\sum ^{n}_{i}=i^{\\infty }_{n}\\gamma ^{i}\\rightarrow \\infty \\dfrac {n!}{\\left( n-r\\right) \\times n!}$$"
   ]
  },
  {
   "cell_type": "code",
   "execution_count": 2,
   "metadata": {},
   "outputs": [
    {
     "data": {
      "text/plain": [
       "0       e\n",
       "1       c\n",
       "2       c\n",
       "3       e\n",
       "4       e\n",
       "5       c\n",
       "6       c\n",
       "7       c\n",
       "8       e\n",
       "9       c\n",
       "10      c\n",
       "11      c\n",
       "12      c\n",
       "13      e\n",
       "14      e\n",
       "15      e\n",
       "16      e\n",
       "17      e\n",
       "18      e\n",
       "19      e\n",
       "20      c\n",
       "21      e\n",
       "22      c\n",
       "23      c\n",
       "24      c\n",
       "25      e\n",
       "26      c\n",
       "27      c\n",
       "28      e\n",
       "29      b\n",
       "       ..\n",
       "7704    b\n",
       "7705    b\n",
       "7706    c\n",
       "7709    c\n",
       "7714    c\n",
       "7717    b\n",
       "7721    b\n",
       "7727    c\n",
       "7739    c\n",
       "7779    b\n",
       "7801    c\n",
       "7805    c\n",
       "7820    c\n",
       "7887    b\n",
       "7898    b\n",
       "7910    c\n",
       "7919    b\n",
       "7931    b\n",
       "7940    b\n",
       "7941    c\n",
       "7946    b\n",
       "7952    b\n",
       "7965    b\n",
       "7981    c\n",
       "7984    b\n",
       "7986    b\n",
       "8001    b\n",
       "8038    b\n",
       "8095    c\n",
       "8114    c\n",
       "Name: stalk-root, Length: 5644, dtype: object"
      ]
     },
     "execution_count": 2,
     "metadata": {},
     "output_type": "execute_result"
    }
   ],
   "source": [
    "import pandas as pd\n",
    "import numpy as np\n",
    "import matplotlib.pyplot as plt\n",
    "from pandas.plotting import parallel_coordinates\n",
    "\n",
    "data = pd.read_csv('agaricus-lepiota.data', names =[\"class\",\"cap-shape\",\"cap-surface\",\"cap-colour\",\"bruises?\",\n",
    "                                                    \"odor\",\"gill-attachment\",\"gill-spacing\",\"gill-size\",\n",
    "                                                    \"gill-colour\",\"stalk-shape\",\"stalk-root\",\"stalk-surface-above-ring\",\n",
    "                                                    \"stalk-surface-below-ring\",\"stalk-colour-above-ring\",\n",
    "                                                    \"stalk-colour-below-ring\",\"veil-type\",\"veil-colour\",\n",
    "                                                    \"ring-number\",\"ring-type\",\"spore-print-colour\",\"population\",\n",
    "                                                    \"habitat\"],sep=',', na_values=[\"?\"])\n",
    "dframe = pd.DataFrame(data)\n",
    "\n",
    "#dframe\n",
    "\n",
    "#get all unique feature labels and combine them for axis labeling purposes\n",
    "#uq = np.unique(dframe[:].values)\n",
    "\n",
    "#Clean data (remove entries with '?')\n",
    "dframe.dropna(inplace=True)\n",
    "# equivalently:\n",
    "# dframe = dframe.dropna()\n",
    "dframe['stalk-root']\n",
    "# dframe"
   ]
  },
  {
   "cell_type": "code",
   "execution_count": 29,
   "metadata": {
    "scrolled": true
   },
   "outputs": [
    {
     "data": {
      "text/html": [
       "<div>\n",
       "<style scoped>\n",
       "    .dataframe tbody tr th:only-of-type {\n",
       "        vertical-align: middle;\n",
       "    }\n",
       "\n",
       "    .dataframe tbody tr th {\n",
       "        vertical-align: top;\n",
       "    }\n",
       "\n",
       "    .dataframe thead th {\n",
       "        text-align: right;\n",
       "    }\n",
       "</style>\n",
       "<table border=\"1\" class=\"dataframe\">\n",
       "  <thead>\n",
       "    <tr style=\"text-align: right;\">\n",
       "      <th></th>\n",
       "      <th>class</th>\n",
       "      <th>cap-shape</th>\n",
       "      <th>cap-surface</th>\n",
       "      <th>cap-colour</th>\n",
       "      <th>bruises?</th>\n",
       "      <th>odor</th>\n",
       "      <th>gill-attachment</th>\n",
       "      <th>gill-spacing</th>\n",
       "      <th>gill-size</th>\n",
       "      <th>gill-colour</th>\n",
       "      <th>...</th>\n",
       "      <th>stalk-surface-below-ring</th>\n",
       "      <th>stalk-colour-above-ring</th>\n",
       "      <th>stalk-colour-below-ring</th>\n",
       "      <th>veil-type</th>\n",
       "      <th>veil-colour</th>\n",
       "      <th>ring-number</th>\n",
       "      <th>ring-type</th>\n",
       "      <th>spore-print-colour</th>\n",
       "      <th>population</th>\n",
       "      <th>habitat</th>\n",
       "    </tr>\n",
       "  </thead>\n",
       "  <tbody>\n",
       "    <tr>\n",
       "      <th>count</th>\n",
       "      <td>8124</td>\n",
       "      <td>8124</td>\n",
       "      <td>8124</td>\n",
       "      <td>8124</td>\n",
       "      <td>8124</td>\n",
       "      <td>8124</td>\n",
       "      <td>8124</td>\n",
       "      <td>8124</td>\n",
       "      <td>8124</td>\n",
       "      <td>8124</td>\n",
       "      <td>...</td>\n",
       "      <td>8124</td>\n",
       "      <td>8124</td>\n",
       "      <td>8124</td>\n",
       "      <td>8124</td>\n",
       "      <td>8124</td>\n",
       "      <td>8124</td>\n",
       "      <td>8124</td>\n",
       "      <td>8124</td>\n",
       "      <td>8124</td>\n",
       "      <td>8124</td>\n",
       "    </tr>\n",
       "    <tr>\n",
       "      <th>unique</th>\n",
       "      <td>2</td>\n",
       "      <td>6</td>\n",
       "      <td>4</td>\n",
       "      <td>10</td>\n",
       "      <td>2</td>\n",
       "      <td>9</td>\n",
       "      <td>2</td>\n",
       "      <td>2</td>\n",
       "      <td>2</td>\n",
       "      <td>12</td>\n",
       "      <td>...</td>\n",
       "      <td>4</td>\n",
       "      <td>9</td>\n",
       "      <td>9</td>\n",
       "      <td>1</td>\n",
       "      <td>4</td>\n",
       "      <td>3</td>\n",
       "      <td>5</td>\n",
       "      <td>9</td>\n",
       "      <td>6</td>\n",
       "      <td>7</td>\n",
       "    </tr>\n",
       "    <tr>\n",
       "      <th>top</th>\n",
       "      <td>e</td>\n",
       "      <td>x</td>\n",
       "      <td>y</td>\n",
       "      <td>n</td>\n",
       "      <td>f</td>\n",
       "      <td>n</td>\n",
       "      <td>f</td>\n",
       "      <td>c</td>\n",
       "      <td>b</td>\n",
       "      <td>b</td>\n",
       "      <td>...</td>\n",
       "      <td>s</td>\n",
       "      <td>w</td>\n",
       "      <td>w</td>\n",
       "      <td>p</td>\n",
       "      <td>w</td>\n",
       "      <td>o</td>\n",
       "      <td>p</td>\n",
       "      <td>w</td>\n",
       "      <td>v</td>\n",
       "      <td>d</td>\n",
       "    </tr>\n",
       "    <tr>\n",
       "      <th>freq</th>\n",
       "      <td>4208</td>\n",
       "      <td>3656</td>\n",
       "      <td>3244</td>\n",
       "      <td>2284</td>\n",
       "      <td>4748</td>\n",
       "      <td>3528</td>\n",
       "      <td>7914</td>\n",
       "      <td>6812</td>\n",
       "      <td>5612</td>\n",
       "      <td>1728</td>\n",
       "      <td>...</td>\n",
       "      <td>4936</td>\n",
       "      <td>4464</td>\n",
       "      <td>4384</td>\n",
       "      <td>8124</td>\n",
       "      <td>7924</td>\n",
       "      <td>7488</td>\n",
       "      <td>3968</td>\n",
       "      <td>2388</td>\n",
       "      <td>4040</td>\n",
       "      <td>3148</td>\n",
       "    </tr>\n",
       "  </tbody>\n",
       "</table>\n",
       "<p>4 rows × 23 columns</p>\n",
       "</div>"
      ],
      "text/plain": [
       "       class cap-shape cap-surface cap-colour bruises?  odor gill-attachment  \\\n",
       "count   8124      8124        8124       8124     8124  8124            8124   \n",
       "unique     2         6           4         10        2     9               2   \n",
       "top        e         x           y          n        f     n               f   \n",
       "freq    4208      3656        3244       2284     4748  3528            7914   \n",
       "\n",
       "       gill-spacing gill-size gill-colour   ...   stalk-surface-below-ring  \\\n",
       "count          8124      8124        8124   ...                       8124   \n",
       "unique            2         2          12   ...                          4   \n",
       "top               c         b           b   ...                          s   \n",
       "freq           6812      5612        1728   ...                       4936   \n",
       "\n",
       "       stalk-colour-above-ring stalk-colour-below-ring veil-type veil-colour  \\\n",
       "count                     8124                    8124      8124        8124   \n",
       "unique                       9                       9         1           4   \n",
       "top                          w                       w         p           w   \n",
       "freq                      4464                    4384      8124        7924   \n",
       "\n",
       "       ring-number ring-type spore-print-colour population habitat  \n",
       "count         8124      8124               8124       8124    8124  \n",
       "unique           3         5                  9          6       7  \n",
       "top              o         p                  w          v       d  \n",
       "freq          7488      3968               2388       4040    3148  \n",
       "\n",
       "[4 rows x 23 columns]"
      ]
     },
     "execution_count": 29,
     "metadata": {},
     "output_type": "execute_result"
    }
   ],
   "source": [
    "dframe.describe()\n"
   ]
  },
  {
   "cell_type": "code",
   "execution_count": null,
   "metadata": {},
   "outputs": [],
   "source": [
    "plt.figure()\n",
    "parallel_coordinates(data,'class')"
   ]
  },
  {
   "cell_type": "code",
   "execution_count": 66,
   "metadata": {},
   "outputs": [
    {
     "data": {
      "text/plain": [
       "['a', '', '', 'd', '']"
      ]
     },
     "execution_count": 66,
     "metadata": {},
     "output_type": "execute_result"
    }
   ],
   "source": [
    "# compare arrays and replaceelements not in intersection with ''\n",
    "all_labels = ['a','b','c','d','e']\n",
    "feature_x_labels=['a','d']\n",
    "for index,i in enumerate(all_labels):\n",
    "    if i not in feature_x_labels:\n",
    "        all_labels[index]=''\n",
    "    \n",
    "all_labels"
   ]
  },
  {
   "cell_type": "code",
   "execution_count": 5,
   "metadata": {},
   "outputs": [
    {
     "ename": "SyntaxError",
     "evalue": "invalid syntax (<ipython-input-5-a7e78b8e7545>, line 2)",
     "output_type": "error",
     "traceback": [
      "\u001b[0;36m  File \u001b[0;32m\"<ipython-input-5-a7e78b8e7545>\"\u001b[0;36m, line \u001b[0;32m2\u001b[0m\n\u001b[0;31m    cont_table = pd.pivot_table(dframe,values=[:],index=['stalk-surface-below-ring'],columns=['class'])\u001b[0m\n\u001b[0m                                               ^\u001b[0m\n\u001b[0;31mSyntaxError\u001b[0m\u001b[0;31m:\u001b[0m invalid syntax\n"
     ]
    }
   ],
   "source": [
    "#contingency tables\n"
   ]
  },
  {
   "cell_type": "code",
   "execution_count": 83,
   "metadata": {},
   "outputs": [
    {
     "data": {
      "image/png": "[encoded data removed]",
      "text/plain": [
       "<Figure size 432x288 with 1 Axes>"
      ]
     },
     "metadata": {},
     "output_type": "display_data"
    },
    {
     "data": {
      "image/png": "[encoded data removed]",
      "text/plain": [
       "<Figure size 432x288 with 1 Axes>"
      ]
     },
     "metadata": {},
     "output_type": "display_data"
    }
   ],
   "source": [
    "def bar_plot_feature(feature1,feature2):\n",
    "    cont_tab=pd.crosstab(index=dframe[feature1],  # Make a crosstab\n",
    "                          columns=dframe[feature2], margins=True)      \n",
    "#     cont_tab\n",
    "    plot_cont_tab = pd.crosstab(index=dframe[feature2],  # Make a crosstab\n",
    "                          columns=dframe[feature1], margins=False)      \n",
    "#     plot_cont_tab\n",
    "# make bargraph from contingency table\n",
    "    plot_cont_tab.plot.bar(stacked=True)\n",
    "    \n",
    "bar_plot_feature(\"odor\",\"population\")\n",
    "bar_plot_feature(\"population\",\"odor\")"
   ]
  },
  {
   "cell_type": "code",
   "execution_count": 81,
   "metadata": {
    "scrolled": false
   },
   "outputs": [
    {
     "data": {
      "text/plain": [
       "[[None, None, None], [None, None, None], [None, None, None]]"
      ]
     },
     "execution_count": 81,
     "metadata": {},
     "output_type": "execute_result"
    },
    {
     "data": {
      "image/png": "[encoded data removed]",
      "text/plain": [
       "<Figure size 432x288 with 1 Axes>"
      ]
     },
     "metadata": {},
     "output_type": "display_data"
    },
    {
     "data": {
      "image/png": "[encoded data removed]",
      "text/plain": [
       "<Figure size 432x288 with 1 Axes>"
      ]
     },
     "metadata": {},
     "output_type": "display_data"
    },
    {
     "data": {
      "image/png": "[encoded data removed]",
      "text/plain": [
       "<Figure size 432x288 with 1 Axes>"
      ]
     },
     "metadata": {},
     "output_type": "display_data"
    },
    {
     "data": {
      "image/png": "[encoded data removed]",
      "text/plain": [
       "<Figure size 432x288 with 1 Axes>"
      ]
     },
     "metadata": {},
     "output_type": "display_data"
    },
    {
     "data": {
      "image/png": "[encoded data removed]",
      "text/plain": [
       "<Figure size 432x288 with 1 Axes>"
      ]
     },
     "metadata": {},
     "output_type": "display_data"
    },
    {
     "data": {
      "image/png": "[encoded data removed]",
      "text/plain": [
       "<Figure size 432x288 with 1 Axes>"
      ]
     },
     "metadata": {},
     "output_type": "display_data"
    },
    {
     "data": {
      "image/png": "[encoded data removed]",
      "text/plain": [
       "<Figure size 432x288 with 1 Axes>"
      ]
     },
     "metadata": {},
     "output_type": "display_data"
    },
    {
     "data": {
      "image/png": "[encoded data removed]",
      "text/plain": [
       "<Figure size 432x288 with 1 Axes>"
      ]
     },
     "metadata": {},
     "output_type": "display_data"
    },
    {
     "data": {
      "image/png": "[encoded data removed]",
      "text/plain": [
       "<Figure size 432x288 with 1 Axes>"
      ]
     },
     "metadata": {},
     "output_type": "display_data"
    }
   ],
   "source": [
    "#make a contingency matrix\n",
    "# feature_names = [\"class\",\"cap-shape\",\"cap-surface\",\"cap-colour\",\"bruises?\",\"odor\",\"gill-attachment\",\"gill-spacing\",\"gill-size\",\"gill-colour\",\"stalk-shape\",\"stalk-root\",\"stalk-surface-above-ring\",\"stalk-surface-below-ring\",\"stalk-colour-above-ring\",\"stalk-colour-below-ring\",\"veil-type\",\"veil-colour\",\"ring-number\",\"ring-type\",\"spore-print-colour\",\"population\",\"habitat\"]\n",
    "feature_names=[\"class\",\"odor\",\"cap-shape\"]\n",
    "matrix = [[0 for x in range(3)] for y in range(3)]\n",
    "for ind1,f1 in enumerate(feature_names):\n",
    "    for ind2,f2 in enumerate(feature_names):\n",
    "        matrix[ind1][ind2] = bar_plot_feature(f1,f2)\n",
    "#         bar_plot_feature(f1,f2)\n",
    "\n",
    "matrix\n",
    "# fig, ax = plt.subplots(10, 10, sharex='col', sharey='row',figsize=(20,20))\n",
    "# fig.subplots_adjust(hspace=2, wspace=2)"
   ]
  },
  {
   "cell_type": "code",
   "execution_count": null,
   "metadata": {},
   "outputs": [],
   "source": [
    "# map symbols to names\n",
    "def feature_val_names(feature,symbol):\n",
    "    feature_names = [\"class\",\"cap-shape\",\"cap-surface\",\"cap-colour\",\"bruises?\",\"odor\",\"gill-attachment\",\"gill-spacing\",\"gill-size\",\"gill-colour\",\"stalk-shape\",\"stalk-root\",\"stalk-surface-above-ring\",\"stalk-surface-below-ring\",\"stalk-colour-above-ring\",\"stalk-colour-below-ring\",\"veil-type\",\"veil-colour\",\"ring-number\",\"ring-type\",\"spore-print-colour\",\"population\",\"habitat\"]\n",
    "    all_feature_vals = ['x','s','n','t','p','f','c','k','e','w','o','u','y','a','b','g','l','m','v','d','r','h','?']\n",
    "    #maybe later"
   ]
  },
  {
   "cell_type": "code",
   "execution_count": 45,
   "metadata": {},
   "outputs": [
    {
     "data": {
      "image/png": "[encoded data removed]",
      "text/plain": [
       "<Figure size 720x720 with 1 Axes>"
      ]
     },
     "metadata": {},
     "output_type": "display_data"
    }
   ],
   "source": [
    "# did MCA on a contingency table - it gave something, not sure what\n",
    "import prince\n",
    "mca = prince.MCA(n_components=4, n_iter=3, copy=True, engine='auto', random_state=42)\n",
    "mca = mca.fit(cont_tab)\n",
    "\n",
    "ax = mca.plot_principal_coordinates(X=cont_tab, ax=None, figsize=(10, 10), show_row_points=True, row_points_size=10, show_row_labels=False, show_column_points=True, column_points_size=30, show_column_labels=False, legend_n_cols=2)\n",
    "\n",
    "ax.legend().set_visible(False)\n",
    "ax.legend(bbox_to_anchor=(1, 0.9))\n",
    "ax.get_figure().savefig('mca_principal_coordinates.png')"
   ]
  },
  {
   "cell_type": "code",
   "execution_count": null,
   "metadata": {},
   "outputs": [],
   "source": []
  }
 ],
 "metadata": {
  "kernelspec": {
   "display_name": "Python 3",
   "language": "python",
   "name": "python3"
  },
  "language_info": {
   "codemirror_mode": {
    "name": "ipython",
    "version": 3
   },
   "file_extension": ".py",
   "mimetype": "text/x-python",
   "name": "python",
   "nbconvert_exporter": "python",
   "pygments_lexer": "ipython3",
   "version": "3.6.4"
  }
 },
 "nbformat": 4,
 "nbformat_minor": 2
}
