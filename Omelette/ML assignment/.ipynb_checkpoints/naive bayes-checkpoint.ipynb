{
 "cells": [
  {
   "cell_type": "markdown",
   "metadata": {},
   "source": [
    "## Code"
   ]
  },
  {
   "cell_type": "code",
   "execution_count": 155,
   "metadata": {},
   "outputs": [],
   "source": [
    "import random\n",
    "import csv\n",
    "from collections import Counter\n",
    "from sklearn.metrics import confusion_matrix\n",
    "import numpy as np\n",
    "import matplotlib.pylab as plt\n",
    "import itertools\n",
    "from math import *"
   ]
  },
  {
   "cell_type": "code",
   "execution_count": 185,
   "metadata": {},
   "outputs": [],
   "source": [
    "#mushroom is one line of data, with the class label removed, i.e just a list of features\n",
    "def class_prediction(edible_counts, poisonous_counts, num_poisonous, num_edible, feature_types, features, mushroom, laplace, logs):\n",
    "    \n",
    "    if logs == True:\n",
    "        p = 0\n",
    "        e = 0\n",
    "    else:\n",
    "        p = 1\n",
    "        e = 1\n",
    "    \n",
    "    new_features = [x - 1 for x in features]\n",
    "    new_features = new_features[1:]\n",
    "    mushroom = np.array(mushroom)\n",
    "    mushroom = mushroom[new_features]\n",
    "    \n",
    "    if laplace == True:\n",
    "        k = 1\n",
    "        n = feature_types\n",
    "    else:\n",
    "        k = 0\n",
    "        n = np.zeros(len(feature_types), dtype=int)\n",
    "    \n",
    "    for i, feature in enumerate(mushroom):\n",
    "        if logs == True:\n",
    "            if poisonous_counts[i].get(feature,0) == 0:\n",
    "                p = p - log(num_poisonous + n[i])\n",
    "            else:\n",
    "                p = p + log(poisonous_counts[i].get(feature,0) + k) - log(num_poisonous + n[i])\n",
    "            \n",
    "            if edible_counts[i].get(feature,0) == 0:\n",
    "                e = e - log(num_edible + n[i])\n",
    "            else:\n",
    "                e = e + log(edible_counts[i].get(feature,0) + k) - log(num_edible + n[i])\n",
    "        else:\n",
    "            p = p * (poisonous_counts[i].get(feature,0) + k)/(num_poisonous + n[i])\n",
    "            e = e * (edible_counts[i].get(feature,0) + k)/(num_edible + n[i])\n",
    "            \n",
    "    if p > e:\n",
    "        return 1\n",
    "    else:\n",
    "        return 0"
   ]
  },
  {
   "cell_type": "code",
   "execution_count": 196,
   "metadata": {},
   "outputs": [],
   "source": [
    "#function to get counts of features\n",
    "def naive_bayes(training, testing, features, laplace, logs):\n",
    "    \n",
    "    num_features = len(features) - 1\n",
    "    num_poisonous = 0\n",
    "    num_edible = 0\n",
    "    \n",
    "#initialise arrays\n",
    "#used feature names for first lines, so arrays would be string type\n",
    "    edible = np.array(['class','cap-shape','cap-surface','cap-color','bruises','odor','gill-attachment',\n",
    "                       'gill-spacing','gill-size','gill-color','stalk-shape','stalk-root',\n",
    "                       'stalk-surface-above-ring','stalk-surface-below-ring','stalk-color-above-ring',\n",
    "                       'stalk-color-below-ring','veil-type','veil-color','ring-number','ring-type',\n",
    "                       'spore-print-color','population','habitat'])\n",
    "    poisonous = edible\n",
    "    \n",
    "#split data into poisonous and edible, save into 2 arrays\n",
    "#take counts of each class\n",
    "    for line in training:\n",
    "        if line[0] == \"p\":\n",
    "            poisonous = np.vstack([poisonous,line])\n",
    "            num_poisonous = num_poisonous + 1\n",
    "        else:\n",
    "            edible = np.vstack([edible,line])\n",
    "            num_edible = num_edible + 1\n",
    "            \n",
    "#take only the features indicated by the indices in the features array\n",
    "    poisonous = poisonous[:,features]\n",
    "    edible = edible[:,features]\n",
    "            \n",
    "#edible_counts and poisonous_counts will contain Counters for each feature\n",
    "#the first line is the counter for feature 1, the second line for feature 2, etc\n",
    "    edible_counts = [[] for j in range(num_features)]\n",
    "    poisonous_counts = [[] for j in range(num_features)]\n",
    "    \n",
    "#an array to store the number of different types of features encountered in the training set, for each feature\n",
    "#eg feature_types[0] contains the number of different values that feature 0 can take on\n",
    "    feature_types = []\n",
    "    \n",
    "#get Counters for each feature, split by class\n",
    "    for f in range(num_features):\n",
    "        edible_counts[f] = Counter((edible[range(1,num_edible),[f+1]]))     #use f+1 becase first column is class label\n",
    "        poisonous_counts[f] = Counter((poisonous[range(1,num_poisonous),[f+1]]))\n",
    "        feature_types.append(max(len(edible_counts[f]),len(poisonous_counts[f])))  #get number of values features can\n",
    "                                                                                   #take on, use max of the classes\n",
    "    \n",
    "    y_true = []\n",
    "    y_pred = []\n",
    "    \n",
    "    for t in testing:\n",
    "        if(t[0] == \"p\"):\n",
    "            y_true.append(1)\n",
    "        else:\n",
    "            y_true.append(0)\n",
    "        \n",
    "        y_pred.append(class_prediction(edible_counts, poisonous_counts, num_poisonous, num_edible, feature_types, features, t[1:], laplace, logs))\n",
    "        \n",
    "    cm = confusion_matrix(y_true, y_pred)\n",
    "\n",
    "#plot confusion matrix\n",
    "#taken from http://scikit-learn.org/stable/auto_examples/model_selection/plot_confusion_matrix.html\n",
    "    title = \"Confusion Matrix\"\n",
    "    classes = ['edible','poisonous']\n",
    "    cmap=plt.cm.BuPu\n",
    "    plt.imshow(cm, interpolation='nearest', cmap=cmap)\n",
    "    plt.title(title)\n",
    "    tick_marks = np.arange(len(classes))\n",
    "    plt.xticks(tick_marks, classes)\n",
    "    plt.yticks(tick_marks, classes)\n",
    "\n",
    "    if cm.max() > 1:\n",
    "        thresh = cm.max()/2\n",
    "    else:\n",
    "        thresh = 1\n",
    "    for i, j in itertools.product(range(cm.shape[0]), range(cm.shape[1])):\n",
    "        plt.text(j, i, format(cm[i, j], 'd'),\n",
    "                horizontalalignment=\"center\",\n",
    "                color=\"white\" if cm[i, j] > thresh else \"black\")\n",
    "\n",
    "    plt.tight_layout()\n",
    "    plt.ylabel('True label')\n",
    "    plt.xlabel('Predicted label')\n",
    "    plt.show()\n",
    "    \n",
    "#find accuracy\n",
    "    accuracy = (cm[0][0] + cm[1][1])/(len(testing))*100\n",
    "    print(\"Accuracy = \", accuracy, \"%\")\n",
    "    print(\"Total error:\", 100-accuracy, \"%\")\n",
    "    print(\"False poisonous:\", cm[1,0])\n",
    "    print(\"False edible:\", cm[0,1])\n",
    "    print(\"Total misclassifications:\", cm[1,0] + cm[0,1])"
   ]
  },
  {
   "cell_type": "markdown",
   "metadata": {},
   "source": [
    "## Results\n",
    "---\n",
    "Reading in the data from the file, and splitting it into training and testing data:"
   ]
  },
  {
   "cell_type": "code",
   "execution_count": 206,
   "metadata": {},
   "outputs": [],
   "source": [
    "with open(\"agaricus-lepiota.data\", 'r') as file:\n",
    "    data = list(csv.reader(file))\n",
    "\n",
    "#split dataset randomly into training and testing data\n",
    "training_data = random.sample(data, int(len(data)*2/3))\n",
    "testing_data = []\n",
    "for line in data:\n",
    "    if line not in training_data:\n",
    "        testing_data.append(line)"
   ]
  },
  {
   "cell_type": "markdown",
   "metadata": {},
   "source": [
    "---\n",
    "#### Running the classifier with all the features\n",
    "- Without using logarithms, using Laplace smoothing:"
   ]
  },
  {
   "cell_type": "code",
   "execution_count": 197,
   "metadata": {},
   "outputs": [
    {
     "data": {
      "image/png": "[encoded data removed]",
      "text/plain": [
       "<Figure size 432x288 with 1 Axes>"
      ]
     },
     "metadata": {},
     "output_type": "display_data"
    },
    {
     "name": "stdout",
     "output_type": "stream",
     "text": [
      "Accuracy =  95.05169867060562 %\n",
      "Total error: 4.948301329394383 %\n",
      "False poisonous: 131\n",
      "False edible: 3\n",
      "Total misclassifications: 134\n"
     ]
    }
   ],
   "source": [
    "features0 = np.linspace(0,22,23,dtype=int)\n",
    "naive_bayes(training_data, testing_data, features0, True, False)"
   ]
  },
  {
   "cell_type": "markdown",
   "metadata": {},
   "source": [
    "- Without logarithms or Laplace smoothing:"
   ]
  },
  {
   "cell_type": "code",
   "execution_count": 198,
   "metadata": {},
   "outputs": [
    {
     "data": {
      "image/png": "[encoded data removed]",
      "text/plain": [
       "<Figure size 432x288 with 1 Axes>"
      ]
     },
     "metadata": {},
     "output_type": "display_data"
    },
    {
     "name": "stdout",
     "output_type": "stream",
     "text": [
      "Accuracy =  99.81536189069425 %\n",
      "Total error: 0.18463810930575164 %\n",
      "False poisonous: 2\n",
      "False edible: 3\n",
      "Total misclassifications: 5\n"
     ]
    }
   ],
   "source": [
    "naive_bayes(training_data, testing_data, features0, False, False)"
   ]
  },
  {
   "cell_type": "markdown",
   "metadata": {},
   "source": [
    "- Using logarithms and Laplace smoothing"
   ]
  },
  {
   "cell_type": "code",
   "execution_count": 199,
   "metadata": {},
   "outputs": [
    {
     "data": {
      "image/png": "[encoded data removed]",
      "text/plain": [
       "<Figure size 432x288 with 1 Axes>"
      ]
     },
     "metadata": {},
     "output_type": "display_data"
    },
    {
     "name": "stdout",
     "output_type": "stream",
     "text": [
      "Accuracy =  95.05169867060562 %\n",
      "Total error: 4.948301329394383 %\n",
      "False poisonous: 131\n",
      "False edible: 3\n",
      "Total misclassifications: 134\n"
     ]
    }
   ],
   "source": [
    "naive_bayes(training_data, testing_data, features0, True, True)"
   ]
  },
  {
   "cell_type": "markdown",
   "metadata": {},
   "source": [
    "- Using logarithms without Laplace smoothing:"
   ]
  },
  {
   "cell_type": "code",
   "execution_count": 200,
   "metadata": {},
   "outputs": [
    {
     "data": {
      "image/png": "[encoded data removed]",
      "text/plain": [
       "<Figure size 432x288 with 1 Axes>"
      ]
     },
     "metadata": {},
     "output_type": "display_data"
    },
    {
     "name": "stdout",
     "output_type": "stream",
     "text": [
      "Accuracy =  94.94091580502216 %\n",
      "Total error: 5.059084194977842 %\n",
      "False poisonous: 134\n",
      "False edible: 3\n",
      "Total misclassifications: 137\n"
     ]
    }
   ],
   "source": [
    "naive_bayes(training_data, testing_data, features0, False, True)"
   ]
  },
  {
   "cell_type": "markdown",
   "metadata": {},
   "source": [
    "----\n",
    "#### Training the classifier on six features: odor, spore-print-colour, stalk-surface-below-ring, stalk-colour-above-ring, habitat and cap-colour.\n",
    "- With Laplace smoothing, without logarithms:"
   ]
  },
  {
   "cell_type": "code",
   "execution_count": 201,
   "metadata": {},
   "outputs": [
    {
     "data": {
      "image/png": "[encoded data removed]",
      "text/plain": [
       "<Figure size 432x288 with 1 Axes>"
      ]
     },
     "metadata": {},
     "output_type": "display_data"
    },
    {
     "name": "stdout",
     "output_type": "stream",
     "text": [
      "Accuracy =  98.44903988183161 %\n",
      "Total error: 1.5509601181683905 %\n",
      "False poisonous: 41\n",
      "False edible: 1\n",
      "Total misclassifications: 42\n"
     ]
    }
   ],
   "source": [
    "features1 = [0,3,5,13,14,20,22]\n",
    "naive_bayes(training_data, testing_data, features1, True, False)"
   ]
  },
  {
   "cell_type": "markdown",
   "metadata": {},
   "source": [
    "- Without Laplace smoothing"
   ]
  },
  {
   "cell_type": "code",
   "execution_count": 202,
   "metadata": {},
   "outputs": [
    {
     "data": {
      "image/png": "[encoded data removed]",
      "text/plain": [
       "<Figure size 432x288 with 1 Axes>"
      ]
     },
     "metadata": {},
     "output_type": "display_data"
    },
    {
     "name": "stdout",
     "output_type": "stream",
     "text": [
      "Accuracy =  99.37223042836041 %\n",
      "Total error: 0.6277695716395897 %\n",
      "False poisonous: 16\n",
      "False edible: 1\n",
      "Total misclassifications: 17\n"
     ]
    }
   ],
   "source": [
    "naive_bayes(training_data, testing_data, features1, False, False)"
   ]
  },
  {
   "cell_type": "markdown",
   "metadata": {},
   "source": [
    "----\n",
    "#### Running the classifer on all features but odor:\n",
    "- With Laplace smoothing and without logarithms:"
   ]
  },
  {
   "cell_type": "code",
   "execution_count": 203,
   "metadata": {},
   "outputs": [
    {
     "data": {
      "image/png": "[encoded data removed]",
      "text/plain": [
       "<Figure size 432x288 with 1 Axes>"
      ]
     },
     "metadata": {},
     "output_type": "display_data"
    },
    {
     "name": "stdout",
     "output_type": "stream",
     "text": [
      "Accuracy =  88.92171344165436 %\n",
      "Total error: 11.078286558345638 %\n",
      "False poisonous: 264\n",
      "False edible: 36\n",
      "Total misclassifications: 300\n"
     ]
    }
   ],
   "source": [
    "features2 = [0,1,2,3,4,6,7,8,9,10,11,12,13,14,15,16,17,18,19,20,21,22]\n",
    "naive_bayes(training_data, testing_data, features2, True, False)"
   ]
  },
  {
   "cell_type": "markdown",
   "metadata": {},
   "source": [
    "---\n",
    "#### Removing missing data:\n",
    "After removing all the mushrooms data where feature 11 (stalk-root) has a missing value, the classifier gives the following result:\n",
    "- With Laplace smoothing:"
   ]
  },
  {
   "cell_type": "code",
   "execution_count": 207,
   "metadata": {},
   "outputs": [
    {
     "data": {
      "image/png": "[encoded data removed]",
      "text/plain": [
       "<Figure size 432x288 with 1 Axes>"
      ]
     },
     "metadata": {},
     "output_type": "display_data"
    },
    {
     "name": "stdout",
     "output_type": "stream",
     "text": [
      "Accuracy =  97.23698193411265 %\n",
      "Total error: 2.7630180658873513 %\n",
      "False poisonous: 48\n",
      "False edible: 4\n",
      "Total misclassifications: 52\n"
     ]
    }
   ],
   "source": [
    "data_no_missing = [line for line in data if line[11] != \"?\"]\n",
    "train_no_missing = random.sample(data_no_missing, int(len(data_no_missing)*2/3))\n",
    "test_no_missing = [line for line in data_no_missing if line not in train_no_missing]\n",
    "naive_bayes(train_no_missing, test_no_missing, features0, True, False)"
   ]
  },
  {
   "cell_type": "markdown",
   "metadata": {},
   "source": [
    "- Without Laplace smoothing:"
   ]
  },
  {
   "cell_type": "code",
   "execution_count": 208,
   "metadata": {},
   "outputs": [
    {
     "data": {
      "image/png": "[encoded data removed]",
      "text/plain": [
       "<Figure size 432x288 with 1 Axes>"
      ]
     },
     "metadata": {},
     "output_type": "display_data"
    },
    {
     "name": "stdout",
     "output_type": "stream",
     "text": [
      "Accuracy =  99.7874601487779 %\n",
      "Total error: 0.21253985122210395 %\n",
      "False poisonous: 0\n",
      "False edible: 4\n",
      "Total misclassifications: 4\n"
     ]
    }
   ],
   "source": [
    "naive_bayes(train_no_missing, test_no_missing, features0, False, False)"
   ]
  },
  {
   "cell_type": "markdown",
   "metadata": {},
   "source": [
    "#### Scikit-Learn Comparison"
   ]
  },
  {
   "cell_type": "code",
   "execution_count": 195,
   "metadata": {},
   "outputs": [
    {
     "name": "stdout",
     "output_type": "stream",
     "text": [
      "[[1305   90]\n",
      " [ 430  856]]\n",
      "Accuracy: 80.60425214472212\n"
     ]
    }
   ],
   "source": [
    "from sklearn import preprocessing\n",
    "from sklearn.model_selection import train_test_split\n",
    "from sklearn.naive_bayes import MultinomialNB\n",
    "le = preprocessing.LabelEncoder()\n",
    "\n",
    "data = np.loadtxt(\"agaricus-lepiota.data\", dtype = str, delimiter = \",\")\n",
    "\n",
    "new_data = np.zeros((len(data), len(data[0])), int)\n",
    "for i in range(len(data[0])):\n",
    "    new_data[:,i] = np.transpose(le.fit_transform(data[:,i]))\n",
    "    \n",
    "train, test = train_test_split(new_data, test_size=0.33)\n",
    "    \n",
    "X = train[:,1:]\n",
    "y = train[:,0]\n",
    "\n",
    "clf = MultinomialNB()\n",
    "clf.fit(X, y)\n",
    "p = (clf.predict(test[:,1:]))\n",
    "cm = confusion_matrix(test[:,0], p)\n",
    "print(cm)\n",
    "print(\"Accuracy:\", 100*(cm[0,0]+cm[1,1])/len(test))"
   ]
  }
 ],
 "metadata": {
  "kernelspec": {
   "display_name": "Python 3",
   "language": "python",
   "name": "python3"
  },
  "language_info": {
   "codemirror_mode": {
    "name": "ipython",
    "version": 3
   },
   "file_extension": ".py",
   "mimetype": "text/x-python",
   "name": "python",
   "nbconvert_exporter": "python",
   "pygments_lexer": "ipython3",
   "version": "3.6.4"
  }
 },
 "nbformat": 4,
 "nbformat_minor": 2
}
