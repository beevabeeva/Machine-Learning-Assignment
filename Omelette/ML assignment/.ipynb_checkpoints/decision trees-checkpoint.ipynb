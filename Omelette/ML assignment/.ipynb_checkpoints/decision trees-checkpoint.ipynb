{
 "cells": [
  {
   "cell_type": "markdown",
   "metadata": {},
   "source": [
    "## Code"
   ]
  },
  {
   "cell_type": "code",
   "execution_count": 33,
   "metadata": {},
   "outputs": [],
   "source": [
    "import csv\n",
    "import random\n",
    "import numpy as np\n",
    "import math\n",
    "import copy\n",
    "from sklearn.metrics import confusion_matrix\n",
    "from sklearn.model_selection import train_test_split\n",
    "import matplotlib.pylab as plt\n",
    "import itertools\n",
    "import pandas as pd"
   ]
  },
  {
   "cell_type": "code",
   "execution_count": 9,
   "metadata": {},
   "outputs": [],
   "source": [
    "# tree class:\n",
    "# each instance of the class contains a branch name, node name, and a list of its children (empty when initialised)\n",
    "# can add as many children as you like (not a binary tree)\n",
    "# nodes do not have references to their parents\n",
    "class decision_tree:\n",
    "    def __init__(self, branch_name, node_name):\n",
    "        self.branch = branch_name\n",
    "        self.node = node_name\n",
    "        self.children = []\n",
    "        \n",
    "    def add_child(self, child_branch):\n",
    "        self.children.append(child_branch)\n",
    "        \n",
    "# recursively draws the tree by printing the current node, and then calling itself on the node's children\n",
    "# must be called with input 0 (indicates the first time the method is called, level 0)\n",
    "    def draw_tree(self, level):\n",
    "        if level == 0:\n",
    "            print(\"root node:\", self.node)\n",
    "        else:\n",
    "            print(level*\"     \", \"> --\", self.branch, \"--\", self.node)\n",
    "        if self.children != []:\n",
    "            level = level + 1\n",
    "            for child in self.children:\n",
    "                child.draw_tree(level)"
   ]
  },
  {
   "cell_type": "code",
   "execution_count": 10,
   "metadata": {},
   "outputs": [],
   "source": [
    "#calculates entropy given one probability\n",
    "def get_entropy(probability):\n",
    "    \n",
    "# get 2nd probability from the first\n",
    "# we know there are only two probabilities because there are 2 classes\n",
    "    p1 = probability\n",
    "    p2 = 1 - p1\n",
    "    if p1 == 0 or p2 == 0:  #math.log will complain if we give it zero\n",
    "        entropy = 0         #convention of entropy calculation\n",
    "    else:\n",
    "        entropy = -( p1*math.log(p1, 2) + p2*math.log(p2, 2) )    #entropy formula\n",
    "    return entropy"
   ]
  },
  {
   "cell_type": "code",
   "execution_count": 11,
   "metadata": {},
   "outputs": [],
   "source": [
    "# calculate gain of a given feature for a given distribution\n",
    "def calculate_gain(distribution, entropy_of_dist, feature, feature_values):        \n",
    "# get gain of the feature using formula\n",
    "    gain = entropy_of_dist\n",
    "    for f in feature_values:\n",
    "        if len(distribution.loc[distribution[feature] == f]) == 0:\n",
    "            entropy_of_feature = 0\n",
    "        else:\n",
    "            entropy_of_feature = get_entropy( len(distribution.loc[(distribution[\"class\"] == \"e\") & (distribution[feature] == f)]) / len(distribution.loc[distribution[feature] == f]) )\n",
    "        gain = gain - 1/len(distribution) * (len(distribution.loc[distribution[feature] == f])) * entropy_of_feature\n",
    "    \n",
    "    return gain"
   ]
  },
  {
   "cell_type": "code",
   "execution_count": 12,
   "metadata": {},
   "outputs": [],
   "source": [
    "# finds the feature with the highest gain given a distribution(dataset)\n",
    "# feature_values is a dictionary containing the feature values for each feature, the keys are names\n",
    "def get_next_feature(distribution, entropy, feature_names, feature_values):\n",
    "        \n",
    "    best_gain = 0\n",
    "    best_feature = \"\"\n",
    "    for feature in feature_names:\n",
    "        new_gain = calculate_gain(distribution, entropy, feature, feature_values[feature])\n",
    "        if  new_gain > best_gain:\n",
    "            best_gain = new_gain\n",
    "            best_feature = feature\n",
    "            \n",
    "    return best_feature"
   ]
  },
  {
   "cell_type": "code",
   "execution_count": 13,
   "metadata": {},
   "outputs": [],
   "source": [
    "# creates a branch of the tree and then calls itself recursively until either entropy is zero or the number of features\n",
    "# to check has run out\n",
    "\n",
    "# for each branch of the tree except the root, the branch name is the feature value of the parent of the branch\n",
    "# the node name is the name of the next feature\n",
    "# if the tree has reached an ending point, the node name is the proportion of that subset of the data which is edible\n",
    "def create_branch(root, distribution, feature_values, feature_names):\n",
    "# create copies of the feature names and values since these will be edited, but other calls to this function\n",
    "# might need the original lists\n",
    "    use_feature_values = copy.deepcopy(feature_values)\n",
    "    use_feature_names = copy.deepcopy(feature_names)\n",
    "            \n",
    "    if len(distribution) == 0:     # if there is nothing in the distribution to check, leave the function\n",
    "        return\n",
    "    else:                          # if there is something to check, get the entropy of the data\n",
    "        edible_count = len(distribution.loc[distribution[\"class\"]==\"e\"])\n",
    "        probability = edible_count/len(distribution)\n",
    "        entropy = get_entropy(probability)\n",
    "\n",
    "# if entropy is zero or there are no more features left to check, give the final probability of being edible\n",
    "    if entropy == 0 or len(feature_values) == 0 or ( len(feature_values)==1 and len(distribution[feature_names[0]].unique())==1 ):\n",
    "        probability = int(probability*100)\n",
    "        root.node = str(probability) + \" % probability of being edible\"\n",
    "        \n",
    "# if entropy is not zero and there are still features to check\n",
    "# get the feature with the most gain and set the node name of the current branch (input root) to that feature name\n",
    "# then call this function for each child\n",
    "    else:\n",
    "        if len(feature_values) == 1:\n",
    "            next_feature = use_feature_names[0]\n",
    "        else:\n",
    "            next_feature = get_next_feature(distribution, entropy, use_feature_names, use_feature_values)\n",
    "            \n",
    "        if next_feature == \"\":\n",
    "            edible_count = len(distribution.loc[distribution[\"class\"]==\"e\"])\n",
    "            probability = edible_count/len(distribution)\n",
    "            root.node = str(int(probability*100)) + \" % probability of being edible\"\n",
    "        else:\n",
    "            next_feature_values = use_feature_values.pop(next_feature)\n",
    "            use_feature_names.remove(next_feature)\n",
    "            root.node = next_feature\n",
    "    \n",
    "            for f in next_feature_values:\n",
    "                if len((distribution.drop(columns = next_feature)).loc[data[next_feature] == f]) > 0:\n",
    "                    tree_branch = decision_tree(f, \"node_name\")\n",
    "                    root.add_child(tree_branch)\n",
    "                    create_branch(tree_branch, (distribution.drop(columns = next_feature)).loc[data[next_feature] == f], use_feature_values, use_feature_names)"
   ]
  },
  {
   "cell_type": "code",
   "execution_count": 14,
   "metadata": {},
   "outputs": [],
   "source": [
    "# creates the root node of the tree and then calls create branch for the first time\n",
    "def create_tree(distribution, features_to_use):\n",
    "\n",
    "    feature_values = {}\n",
    "    for f in features_to_use:\n",
    "        feature_values[f] = (list(distribution[f].unique()))\n",
    "        \n",
    "    root = decision_tree(\"root\", \"first feature\")\n",
    "    create_branch(root, distribution[[\"class\"] + features_to_use], feature_values, features_to_use)\n",
    "    return root"
   ]
  },
  {
   "cell_type": "code",
   "execution_count": 15,
   "metadata": {},
   "outputs": [],
   "source": [
    "# test a tree given the root node and test data\n",
    "# appends the true and predicted classes to predicted and truth lists\n",
    "def test_tree(tree_root, test_data, predicted, truth):\n",
    "    \n",
    "# if at end of a branch:\n",
    "# append the predicted class (edible if probability > 50) to predicted list, and true class to truth\n",
    "# -1 for poisonous, 1 for edible\n",
    "    if tree_root.children == []:\n",
    "        for i in range(len(test_data)):\n",
    "            if int(tree_root.node.split(\" \")[0]) > 50:\n",
    "                predicted.append(1)\n",
    "            else:\n",
    "                predicted.append(-1)\n",
    "            \n",
    "            if test_data.iloc[i][0] == \"e\":\n",
    "                truth.append(1)\n",
    "            else:\n",
    "                truth.append(-1)\n",
    "# call this function for each child of the current node\n",
    "    else:    \n",
    "        feature = tree_root.node\n",
    "        for child in tree_root.children:\n",
    "            test_tree(child, test_data.loc[test_data[feature] == child.branch], predicted, truth)"
   ]
  },
  {
   "cell_type": "code",
   "execution_count": 53,
   "metadata": {},
   "outputs": [],
   "source": [
    "# calls test_tree for the first time and get the accuracy of the tree\n",
    "# plots a confusion matrix of the results\n",
    "def get_accuracy(tree_root, test_data):\n",
    "    predicted_classes = []\n",
    "    true_classes = []\n",
    "    \n",
    "    test_tree(tree_root, test_data, predicted_classes, true_classes)\n",
    "    \n",
    "    cm = confusion_matrix(true_classes, predicted_classes)\n",
    "\n",
    "#plot confusion matrix\n",
    "#taken from http://scikit-learn.org/stable/auto_examples/model_selection/plot_confusion_matrix.html\n",
    "    title = \"Confusion Matrix\"\n",
    "    classes = ['poisonous','edible']\n",
    "    cmap=plt.cm.BuPu\n",
    "    plt.imshow(cm, interpolation='nearest', cmap=cmap)\n",
    "    plt.title(title)\n",
    "    tick_marks = np.arange(len(classes))\n",
    "    plt.xticks(tick_marks, classes)\n",
    "    plt.yticks(tick_marks, classes)\n",
    "\n",
    "    if cm.max() > 1:\n",
    "        thresh = cm.max()/2\n",
    "    else:\n",
    "        thresh = 1\n",
    "    for i, j in itertools.product(range(cm.shape[0]), range(cm.shape[1])):\n",
    "        plt.text(j, i, format(cm[i, j], 'd'),\n",
    "                horizontalalignment=\"center\",\n",
    "                color=\"white\" if cm[i, j] > thresh else \"black\")\n",
    "\n",
    "    plt.tight_layout()\n",
    "    plt.ylabel('True label')\n",
    "    plt.xlabel('Predicted label')\n",
    "    plt.show()\n",
    "    \n",
    "#find accuracy\n",
    "    accuracy = (cm[0][0] + cm[1][1])/(len(test_data))*100\n",
    "    print(\"Accuracy = \", accuracy, \"%\")\n",
    "    print(\"Total error:\", 100-accuracy, \"%\")\n",
    "    print(\"False poisonous:\", cm[1,0])\n",
    "    print(\"False edible:\", cm[0,1])\n",
    "    print(\"Total misclassifications:\", cm[1,0] + cm[0,1])"
   ]
  },
  {
   "cell_type": "markdown",
   "metadata": {},
   "source": [
    "## Results"
   ]
  },
  {
   "cell_type": "code",
   "execution_count": 40,
   "metadata": {},
   "outputs": [],
   "source": [
    "# Reading in the data as a pandas dataframe\n",
    "# Splitting into training and testing data (training = 60%)\n",
    "\n",
    "f_names = [\"class\",\"cap-shape\",\"cap-surface\",\"cap-colour\",\"bruises?\",\"odor\",\"gill-attachment\",\n",
    "           \"gill-spacing\",\"gill-size\",\"gill-colour\",\"stalk-shape\",\"stalk-root\",\"stalk-surface-above-ring\",\n",
    "           \"stalk-surface-below-ring\",\"stalk-colour-above-ring\",\"stalk-colour-below-ring\",\"veil-type\",\n",
    "           \"veil-colour\",\"ring-number\",\"ring-type\",\"spore-print-colour\",\"population\",\"habitat\"]\n",
    "\n",
    "data = pd.read_csv('agaricus-lepiota.data', names=f_names)\n",
    "train, test = train_test_split(data, test_size=0.4)"
   ]
  },
  {
   "cell_type": "markdown",
   "metadata": {},
   "source": [
    "#### Using all the features:"
   ]
  },
  {
   "cell_type": "code",
   "execution_count": 54,
   "metadata": {},
   "outputs": [
    {
     "name": "stdout",
     "output_type": "stream",
     "text": [
      "root node: odor\n",
      "      > -- f -- 0 % probability of being edible\n",
      "      > -- l -- 100 % probability of being edible\n",
      "      > -- n -- spore-print-colour\n",
      "           > -- w -- habitat\n",
      "                > -- l -- cap-colour\n",
      "                     > -- n -- 100 % probability of being edible\n",
      "                     > -- w -- 0 % probability of being edible\n",
      "                     > -- y -- 0 % probability of being edible\n",
      "                     > -- c -- 100 % probability of being edible\n",
      "                > -- g -- 100 % probability of being edible\n",
      "                > -- w -- 100 % probability of being edible\n",
      "                > -- d -- gill-size\n",
      "                     > -- n -- 0 % probability of being edible\n",
      "                     > -- b -- 100 % probability of being edible\n",
      "                > -- p -- 100 % probability of being edible\n",
      "           > -- k -- 100 % probability of being edible\n",
      "           > -- h -- 100 % probability of being edible\n",
      "           > -- n -- 100 % probability of being edible\n",
      "           > -- r -- 0 % probability of being edible\n",
      "           > -- o -- 100 % probability of being edible\n",
      "           > -- b -- 100 % probability of being edible\n",
      "           > -- y -- 100 % probability of being edible\n",
      "      > -- a -- 100 % probability of being edible\n",
      "      > -- s -- 0 % probability of being edible\n",
      "      > -- y -- 0 % probability of being edible\n",
      "      > -- p -- 0 % probability of being edible\n",
      "      > -- c -- 0 % probability of being edible\n",
      "      > -- m -- 0 % probability of being edible\n"
     ]
    },
    {
     "data": {
      "image/png": "[encoded data removed]",
      "text/plain": [
       "<Figure size 432x288 with 1 Axes>"
      ]
     },
     "metadata": {},
     "output_type": "display_data"
    },
    {
     "name": "stdout",
     "output_type": "stream",
     "text": [
      "Accuracy =  100.0 %\n",
      "Total error: 0.0 %\n",
      "False poisonous: 0\n",
      "False edible: 0\n",
      "Total misclassifications: 0\n"
     ]
    }
   ],
   "source": [
    "features_to_use = [\"cap-shape\",\"cap-surface\",\"cap-colour\",\"bruises?\",\"odor\",\"gill-attachment\",\n",
    "                   \"gill-spacing\",\"gill-size\",\"gill-colour\",\"stalk-shape\",\"stalk-root\",\"stalk-surface-above-ring\",\n",
    "                   \"stalk-surface-below-ring\",\"stalk-colour-above-ring\",\"stalk-colour-below-ring\",\"veil-type\",\n",
    "                   \"veil-colour\",\"ring-number\",\"ring-type\",\"spore-print-colour\",\"population\",\"habitat\"]\n",
    "d_tree = create_tree(train, features_to_use)\n",
    "d_tree.draw_tree(0)\n",
    "get_accuracy(d_tree, test)"
   ]
  },
  {
   "cell_type": "markdown",
   "metadata": {},
   "source": [
    "#### Using the 7 features mentioned in the rules for mushrooms as given by the source of the data:"
   ]
  },
  {
   "cell_type": "code",
   "execution_count": 55,
   "metadata": {},
   "outputs": [
    {
     "name": "stdout",
     "output_type": "stream",
     "text": [
      "root node: odor\n",
      "      > -- f -- 0 % probability of being edible\n",
      "      > -- l -- 100 % probability of being edible\n",
      "      > -- n -- spore-print-colour\n",
      "           > -- w -- habitat\n",
      "                > -- l -- cap-colour\n",
      "                     > -- n -- 100 % probability of being edible\n",
      "                     > -- w -- 0 % probability of being edible\n",
      "                     > -- y -- 0 % probability of being edible\n",
      "                     > -- c -- 100 % probability of being edible\n",
      "                > -- g -- 100 % probability of being edible\n",
      "                > -- w -- 100 % probability of being edible\n",
      "                > -- d -- stalk-colour-above-ring\n",
      "                     > -- w -- 0 % probability of being edible\n",
      "                     > -- n -- 100 % probability of being edible\n",
      "                > -- p -- 100 % probability of being edible\n",
      "           > -- k -- 100 % probability of being edible\n",
      "           > -- h -- 100 % probability of being edible\n",
      "           > -- n -- 100 % probability of being edible\n",
      "           > -- r -- 0 % probability of being edible\n",
      "           > -- o -- 100 % probability of being edible\n",
      "           > -- b -- 100 % probability of being edible\n",
      "           > -- y -- 100 % probability of being edible\n",
      "      > -- a -- 100 % probability of being edible\n",
      "      > -- s -- 0 % probability of being edible\n",
      "      > -- y -- 0 % probability of being edible\n",
      "      > -- p -- 0 % probability of being edible\n",
      "      > -- c -- 0 % probability of being edible\n",
      "      > -- m -- 0 % probability of being edible\n"
     ]
    },
    {
     "data": {
      "image/png": "[encoded data removed]",
      "text/plain": [
       "<Figure size 432x288 with 1 Axes>"
      ]
     },
     "metadata": {},
     "output_type": "display_data"
    },
    {
     "name": "stdout",
     "output_type": "stream",
     "text": [
      "Accuracy =  100.0 %\n",
      "Total error: 0.0 %\n",
      "False poisonous: 0\n",
      "False edible: 0\n",
      "Total misclassifications: 0\n"
     ]
    }
   ],
   "source": [
    "features_to_use = [\"cap-colour\",\"odor\",\"stalk-surface-below-ring\",\"stalk-colour-above-ring\",\n",
    "                   \"spore-print-colour\",\"population\",\"habitat\"]\n",
    "d_tree = create_tree(train, features_to_use)\n",
    "d_tree.draw_tree(0)\n",
    "get_accuracy(d_tree, test)"
   ]
  },
  {
   "cell_type": "markdown",
   "metadata": {},
   "source": [
    "#### Using only cap-colour, odor and spore-print-colour:"
   ]
  },
  {
   "cell_type": "code",
   "execution_count": 56,
   "metadata": {},
   "outputs": [
    {
     "name": "stdout",
     "output_type": "stream",
     "text": [
      "root node: odor\n",
      "      > -- f -- 0 % probability of being edible\n",
      "      > -- l -- 100 % probability of being edible\n",
      "      > -- n -- spore-print-colour\n",
      "           > -- w -- cap-colour\n",
      "                > -- n -- 88 % probability of being edible\n",
      "                > -- w -- 94 % probability of being edible\n",
      "                > -- y -- 0 % probability of being edible\n",
      "                > -- g -- 100 % probability of being edible\n",
      "                > -- b -- 100 % probability of being edible\n",
      "                > -- e -- 100 % probability of being edible\n",
      "                > -- p -- 100 % probability of being edible\n",
      "                > -- c -- 100 % probability of being edible\n",
      "           > -- k -- 100 % probability of being edible\n",
      "           > -- h -- 100 % probability of being edible\n",
      "           > -- n -- 100 % probability of being edible\n",
      "           > -- r -- 0 % probability of being edible\n",
      "           > -- o -- 100 % probability of being edible\n",
      "           > -- b -- 100 % probability of being edible\n",
      "           > -- y -- 100 % probability of being edible\n",
      "      > -- a -- 100 % probability of being edible\n",
      "      > -- s -- 0 % probability of being edible\n",
      "      > -- y -- 0 % probability of being edible\n",
      "      > -- p -- 0 % probability of being edible\n",
      "      > -- c -- 0 % probability of being edible\n",
      "      > -- m -- 0 % probability of being edible\n"
     ]
    },
    {
     "data": {
      "image/png": "[encoded data removed]",
      "text/plain": [
       "<Figure size 432x288 with 1 Axes>"
      ]
     },
     "metadata": {},
     "output_type": "display_data"
    },
    {
     "name": "stdout",
     "output_type": "stream",
     "text": [
      "Accuracy =  99.66153846153846 %\n",
      "Total error: 0.33846153846154436 %\n",
      "False poisonous: 0\n",
      "False edible: 11\n",
      "Total misclassifications: 11\n"
     ]
    }
   ],
   "source": [
    "features_to_use = [\"cap-colour\",\"odor\",\"spore-print-colour\"]\n",
    "d_tree = create_tree(train, features_to_use)\n",
    "d_tree.draw_tree(0)\n",
    "get_accuracy(d_tree, test)"
   ]
  },
  {
   "cell_type": "markdown",
   "metadata": {},
   "source": [
    "#### Excluding all the features used in the first decision tree, as well as those mentioned in the rules for poisonous mushrooms:"
   ]
  },
  {
   "cell_type": "code",
   "execution_count": 57,
   "metadata": {},
   "outputs": [
    {
     "name": "stdout",
     "output_type": "stream",
     "text": [
      "root node: gill-colour\n",
      "      > -- b -- 0 % probability of being edible\n",
      "      > -- k -- bruises?\n",
      "           > -- f -- 100 % probability of being edible\n",
      "           > -- t -- stalk-root\n",
      "                > -- c -- 100 % probability of being edible\n",
      "                > -- e -- 0 % probability of being edible\n",
      "      > -- p -- ring-type\n",
      "           > -- e -- 100 % probability of being edible\n",
      "           > -- p -- cap-surface\n",
      "                > -- y -- stalk-root\n",
      "                     > -- b -- 100 % probability of being edible\n",
      "                     > -- r -- 100 % probability of being edible\n",
      "                     > -- e -- 0 % probability of being edible\n",
      "                > -- s -- gill-spacing\n",
      "                     > -- c -- 0 % probability of being edible\n",
      "                     > -- w -- stalk-root\n",
      "                          > -- ? -- 100 % probability of being edible\n",
      "                          > -- b -- bruises?\n",
      "                               > -- f -- 0 % probability of being edible\n",
      "                               > -- t -- 100 % probability of being edible\n",
      "                > -- f -- bruises?\n",
      "                     > -- f -- stalk-root\n",
      "                          > -- ? -- 100 % probability of being edible\n",
      "                          > -- b -- 0 % probability of being edible\n",
      "                          > -- e -- 100 % probability of being edible\n",
      "                     > -- t -- 100 % probability of being edible\n",
      "           > -- l -- 0 % probability of being edible\n",
      "           > -- f -- 100 % probability of being edible\n",
      "      > -- h -- stalk-root\n",
      "           > -- ? -- 100 % probability of being edible\n",
      "           > -- b -- 0 % probability of being edible\n",
      "           > -- e -- 100 % probability of being edible\n",
      "      > -- e -- 100 % probability of being edible\n",
      "      > -- g -- stalk-root\n",
      "           > -- ? -- 100 % probability of being edible\n",
      "           > -- c -- 100 % probability of being edible\n",
      "           > -- b -- 0 % probability of being edible\n",
      "           > -- e -- 100 % probability of being edible\n",
      "      > -- w -- stalk-colour-below-ring\n",
      "           > -- p -- 100 % probability of being edible\n",
      "           > -- w -- stalk-root\n",
      "                > -- ? -- 100 % probability of being edible\n",
      "                > -- c -- 100 % probability of being edible\n",
      "                > -- b -- cap-surface\n",
      "                     > -- y -- cap-shape\n",
      "                          > -- x -- 100 % probability of being edible\n",
      "                          > -- b -- 0 % probability of being edible\n",
      "                          > -- f -- stalk-shape\n",
      "                               > -- t -- 100 % probability of being edible\n",
      "                               > -- e -- gill-spacing\n",
      "                                    > -- c -- 58 % probability of being edible\n",
      "                                    > -- w -- 0 % probability of being edible\n",
      "                          > -- k -- 0 % probability of being edible\n",
      "                     > -- s -- gill-spacing\n",
      "                          > -- c -- stalk-shape\n",
      "                               > -- t -- 0 % probability of being edible\n",
      "                               > -- e -- cap-shape\n",
      "                                    > -- x -- 100 % probability of being edible\n",
      "                                    > -- b -- 0 % probability of being edible\n",
      "                                    > -- f -- 66 % probability of being edible\n",
      "                          > -- w -- 100 % probability of being edible\n",
      "                     > -- f -- 100 % probability of being edible\n",
      "                     > -- g -- 0 % probability of being edible\n",
      "                > -- r -- 100 % probability of being edible\n",
      "                > -- e -- 0 % probability of being edible\n",
      "           > -- n -- stalk-root\n",
      "                > -- ? -- 0 % probability of being edible\n",
      "                > -- b -- 100 % probability of being edible\n",
      "           > -- e -- 100 % probability of being edible\n",
      "           > -- g -- 100 % probability of being edible\n",
      "           > -- y -- 0 % probability of being edible\n",
      "           > -- c -- 0 % probability of being edible\n",
      "      > -- n -- stalk-shape\n",
      "           > -- t -- 100 % probability of being edible\n",
      "           > -- e -- stalk-root\n",
      "                > -- ? -- 100 % probability of being edible\n",
      "                > -- c -- 100 % probability of being edible\n",
      "                > -- b -- 0 % probability of being edible\n",
      "                > -- r -- 100 % probability of being edible\n",
      "                > -- e -- cap-surface\n",
      "                     > -- y -- 0 % probability of being edible\n",
      "                     > -- s -- 0 % probability of being edible\n",
      "                     > -- f -- 100 % probability of being edible\n",
      "      > -- u -- bruises?\n",
      "           > -- f -- cap-surface\n",
      "                > -- y -- 100 % probability of being edible\n",
      "                > -- s -- 0 % probability of being edible\n",
      "                > -- f -- 0 % probability of being edible\n",
      "           > -- t -- 100 % probability of being edible\n",
      "      > -- o -- 100 % probability of being edible\n",
      "      > -- r -- 0 % probability of being edible\n",
      "      > -- y -- cap-surface\n",
      "           > -- y -- 0 % probability of being edible\n",
      "           > -- s -- 100 % probability of being edible\n"
     ]
    },
    {
     "data": {
      "image/png": "[encoded data removed]",
      "text/plain": [
       "<Figure size 432x288 with 1 Axes>"
      ]
     },
     "metadata": {},
     "output_type": "display_data"
    },
    {
     "name": "stdout",
     "output_type": "stream",
     "text": [
      "Accuracy =  99.81538461538462 %\n",
      "Total error: 0.18461538461538396 %\n",
      "False poisonous: 0\n",
      "False edible: 5\n",
      "Total misclassifications: 5\n"
     ]
    }
   ],
   "source": [
    "features_to_use = [\"cap-shape\",\"cap-surface\",\"bruises?\",\"gill-attachment\",\n",
    "                   \"gill-spacing\",\"gill-colour\",\"stalk-shape\",\"stalk-root\",\"stalk-surface-above-ring\",\n",
    "                   \"stalk-colour-below-ring\",\"veil-type\",\n",
    "                   \"veil-colour\",\"ring-number\",\"ring-type\"]\n",
    "d_tree = create_tree(train, features_to_use)\n",
    "d_tree.draw_tree(0)\n",
    "get_accuracy(d_tree, test)"
   ]
  },
  {
   "cell_type": "markdown",
   "metadata": {},
   "source": [
    "#### Scikit-Learn Comparison"
   ]
  },
  {
   "cell_type": "code",
   "execution_count": 49,
   "metadata": {},
   "outputs": [
    {
     "name": "stdout",
     "output_type": "stream",
     "text": [
      "[[1583    0]\n",
      " [   0 1667]]\n",
      "Accuracy: 100.0\n"
     ]
    }
   ],
   "source": [
    "s = pd.get_dummies(train)\n",
    "s = s.drop(columns = \"class_p\")\n",
    "from sklearn import tree\n",
    "X = s.iloc[:,1:]\n",
    "Y = s.iloc[:,0]\n",
    "clf = tree.DecisionTreeClassifier()\n",
    "clf = clf.fit(X, Y)\n",
    "r = pd.get_dummies(test)\n",
    "t = r[\"class_e\"]\n",
    "r = r.drop(columns = [\"class_e\", \"class_p\"])\n",
    "p = clf.predict(r)\n",
    "cm = confusion_matrix(t, p)\n",
    "print(cm)\n",
    "print(\"Accuracy:\", 100*(cm[0,0]+cm[1,1])/len(test))"
   ]
  }
 ],
 "metadata": {
  "kernelspec": {
   "display_name": "Python 3",
   "language": "python",
   "name": "python3"
  },
  "language_info": {
   "codemirror_mode": {
    "name": "ipython",
    "version": 3
   },
   "file_extension": ".py",
   "mimetype": "text/x-python",
   "name": "python",
   "nbconvert_exporter": "python",
   "pygments_lexer": "ipython3",
   "version": "3.6.4"
  }
 },
 "nbformat": 4,
 "nbformat_minor": 2
}
