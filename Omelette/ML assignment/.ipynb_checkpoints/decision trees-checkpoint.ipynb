{
 "cells": [
  {
   "cell_type": "code",
   "execution_count": 232,
   "metadata": {},
   "outputs": [
    {
     "name": "stdout",
     "output_type": "stream",
     "text": [
      "3250\n"
     ]
    }
   ],
   "source": [
    "import csv\n",
    "import random\n",
    "import numpy as np\n",
    "import math\n",
    "import copy\n",
    "from sklearn.metrics import confusion_matrix\n",
    "from sklearn.model_selection import train_test_split\n",
    "import matplotlib.pylab as plt\n",
    "import itertools\n",
    "import pandas as pd\n",
    "#import warnings\n",
    "#warnings.simplefilter('error', RuntimeWarning)\n",
    "\n",
    "f_names = [\"class\",\"cap-shape\",\"cap-surface\",\"cap-colour\",\"bruises?\",\"odor\",\"gill-attachment\",\n",
    "           \"gill-spacing\",\"gill-size\",\"gill-colour\",\"stalk-shape\",\"stalk-root\",\"stalk-surface-above-ring\",\n",
    "           \"stalk-surface-below-ring\",\"stalk-colour-above-ring\",\"stalk-colour-below-ring\",\"veil-type\",\n",
    "           \"veil-colour\",\"ring-number\",\"ring-type\",\"spore-print-colour\",\"population\",\"habitat\"]\n",
    "\n",
    "data = pd.read_csv('agaricus-lepiota.data', names=f_names)\n",
    "train, test = train_test_split(data, test_size=0.4)\n",
    "print(len(test))"
   ]
  },
  {
   "cell_type": "markdown",
   "metadata": {},
   "source": [
    "Making a decision tree using all the features:"
   ]
  },
  {
   "cell_type": "code",
   "execution_count": 233,
   "metadata": {},
   "outputs": [
    {
     "name": "stdout",
     "output_type": "stream",
     "text": [
      "root node: odor\n",
      "      > -- y -- 0 % probability of being edible\n",
      "      > -- n -- spore-print-colour\n",
      "           > -- w -- habitat\n",
      "                > -- p -- 100 % probability of being edible\n",
      "                > -- w -- 100 % probability of being edible\n",
      "                > -- g -- 100 % probability of being edible\n",
      "                > -- d -- gill-size\n",
      "                     > -- n -- 0 % probability of being edible\n",
      "                     > -- b -- 100 % probability of being edible\n",
      "                > -- l -- cap-colour\n",
      "                     > -- n -- 100 % probability of being edible\n",
      "                     > -- w -- 0 % probability of being edible\n",
      "                     > -- y -- 0 % probability of being edible\n",
      "                     > -- c -- 100 % probability of being edible\n",
      "           > -- h -- 100 % probability of being edible\n",
      "           > -- n -- 100 % probability of being edible\n",
      "           > -- k -- 100 % probability of being edible\n",
      "           > -- o -- 100 % probability of being edible\n",
      "           > -- b -- 100 % probability of being edible\n",
      "           > -- r -- 0 % probability of being edible\n",
      "           > -- y -- 100 % probability of being edible\n",
      "      > -- f -- 0 % probability of being edible\n",
      "      > -- a -- 100 % probability of being edible\n",
      "      > -- l -- 100 % probability of being edible\n",
      "      > -- s -- 0 % probability of being edible\n",
      "      > -- c -- 0 % probability of being edible\n",
      "      > -- m -- 0 % probability of being edible\n",
      "      > -- p -- 0 % probability of being edible\n"
     ]
    },
    {
     "data": {
      "image/png": "[encoded data removed]",
      "text/plain": [
       "<Figure size 432x288 with 1 Axes>"
      ]
     },
     "metadata": {},
     "output_type": "display_data"
    },
    {
     "name": "stdout",
     "output_type": "stream",
     "text": [
      "Accuracy =  100.0 %\n"
     ]
    }
   ],
   "source": [
    "features_to_use = [\"cap-shape\",\"cap-surface\",\"cap-colour\",\"bruises?\",\"odor\",\"gill-attachment\",\n",
    "                   \"gill-spacing\",\"gill-size\",\"gill-colour\",\"stalk-shape\",\"stalk-root\",\"stalk-surface-above-ring\",\n",
    "                   \"stalk-surface-below-ring\",\"stalk-colour-above-ring\",\"stalk-colour-below-ring\",\"veil-type\",\n",
    "                   \"veil-colour\",\"ring-number\",\"ring-type\",\"spore-print-colour\",\"population\",\"habitat\"]\n",
    "d_tree = create_tree(train, features_to_use)\n",
    "d_tree.draw_tree(0)\n",
    "get_accuracy(d_tree, test, features_to_use)"
   ]
  },
  {
   "cell_type": "markdown",
   "metadata": {},
   "source": [
    "Using all the features except odor:"
   ]
  },
  {
   "cell_type": "code",
   "execution_count": 238,
   "metadata": {},
   "outputs": [
    {
     "name": "stdout",
     "output_type": "stream",
     "text": [
      "root node: spore-print-colour\n",
      "      > -- w -- gill-colour\n",
      "           > -- b -- 0 % probability of being edible\n",
      "           > -- w -- habitat\n",
      "                > -- p -- 100 % probability of being edible\n",
      "                > -- w -- 100 % probability of being edible\n",
      "                > -- g -- 100 % probability of being edible\n",
      "                > -- d -- stalk-root\n",
      "                     > -- ? -- 0 % probability of being edible\n",
      "                     > -- b -- 100 % probability of being edible\n",
      "                     > -- c -- 0 % probability of being edible\n",
      "                > -- l -- cap-colour\n",
      "                     > -- n -- 100 % probability of being edible\n",
      "                     > -- w -- 0 % probability of being edible\n",
      "                     > -- y -- 0 % probability of being edible\n",
      "                     > -- c -- 100 % probability of being edible\n",
      "           > -- p -- 100 % probability of being edible\n",
      "           > -- g -- 100 % probability of being edible\n",
      "           > -- y -- 0 % probability of being edible\n",
      "           > -- e -- 100 % probability of being edible\n",
      "      > -- h -- gill-size\n",
      "           > -- n -- 100 % probability of being edible\n",
      "           > -- b -- 0 % probability of being edible\n",
      "      > -- n -- gill-size\n",
      "           > -- n -- population\n",
      "                > -- v -- stalk-shape\n",
      "                     > -- t -- 100 % probability of being edible\n",
      "                     > -- e -- cap-surface\n",
      "                          > -- y -- 0 % probability of being edible\n",
      "                          > -- s -- 0 % probability of being edible\n",
      "                          > -- f -- stalk-root\n",
      "                               > -- b -- 0 % probability of being edible\n",
      "                               > -- e -- 100 % probability of being edible\n",
      "                > -- y -- 100 % probability of being edible\n",
      "                > -- s -- 0 % probability of being edible\n",
      "           > -- b -- 100 % probability of being edible\n",
      "      > -- k -- gill-size\n",
      "           > -- n -- population\n",
      "                > -- v -- cap-surface\n",
      "                     > -- y -- 0 % probability of being edible\n",
      "                     > -- s -- 0 % probability of being edible\n",
      "                     > -- f -- stalk-root\n",
      "                          > -- b -- 0 % probability of being edible\n",
      "                          > -- e -- 100 % probability of being edible\n",
      "                > -- y -- 100 % probability of being edible\n",
      "                > -- s -- 0 % probability of being edible\n",
      "           > -- b -- 100 % probability of being edible\n",
      "      > -- o -- 100 % probability of being edible\n",
      "      > -- b -- 100 % probability of being edible\n",
      "      > -- u -- 100 % probability of being edible\n",
      "      > -- r -- 0 % probability of being edible\n",
      "      > -- y -- 100 % probability of being edible\n",
      "     class cap-shape cap-surface cap-colour bruises? odor gill-attachment  \\\n",
      "7901     p         k           y          n        f    s               f   \n",
      "4734     e         f           f          e        t    n               f   \n",
      "895      e         x           y          n        t    l               f   \n",
      "398      e         x           f          g        f    n               f   \n",
      "6379     p         f           y          n        f    s               f   \n",
      "\n",
      "     gill-spacing gill-size gill-colour   ...   stalk-surface-below-ring  \\\n",
      "7901            c         n           b   ...                          k   \n",
      "4734            c         b           w   ...                          s   \n",
      "895             c         b           p   ...                          y   \n",
      "398             c         n           n   ...                          s   \n",
      "6379            c         n           b   ...                          k   \n",
      "\n",
      "     stalk-colour-above-ring stalk-colour-below-ring veil-type veil-colour  \\\n",
      "7901                       p                       w         p           w   \n",
      "4734                       w                       w         p           w   \n",
      "895                        w                       w         p           w   \n",
      "398                        w                       w         p           w   \n",
      "6379                       w                       w         p           w   \n",
      "\n",
      "     ring-number ring-type spore-print-colour population habitat  \n",
      "7901           o         e                  w          v       p  \n",
      "4734           o         p                  k          y       d  \n",
      "895            o         p                  n          s       g  \n",
      "398            o         p                  k          v       u  \n",
      "6379           o         e                  w          v       l  \n",
      "\n",
      "[5 rows x 23 columns]\n"
     ]
    },
    {
     "data": {
      "image/png": "[encoded data removed]",
      "text/plain": [
       "<Figure size 432x288 with 1 Axes>"
      ]
     },
     "metadata": {},
     "output_type": "display_data"
    },
    {
     "name": "stdout",
     "output_type": "stream",
     "text": [
      "Accuracy =  100.0 %\n"
     ]
    }
   ],
   "source": [
    "features_to_use = [\"cap-shape\",\"cap-surface\",\"cap-colour\",\"bruises?\",\"gill-attachment\",\n",
    "                   \"gill-spacing\",\"gill-size\",\"gill-colour\",\"stalk-shape\",\"stalk-root\",\"stalk-surface-above-ring\",\n",
    "                   \"stalk-surface-below-ring\",\"stalk-colour-above-ring\",\"stalk-colour-below-ring\",\"veil-type\",\n",
    "                   \"veil-colour\",\"ring-number\",\"ring-type\",\"spore-print-colour\",\"population\",\"habitat\"]\n",
    "d_tree = create_tree(train, features_to_use)\n",
    "d_tree.draw_tree(0)\n",
    "get_accuracy(d_tree, test)"
   ]
  },
  {
   "cell_type": "code",
   "execution_count": 206,
   "metadata": {},
   "outputs": [],
   "source": [
    "# tree class:\n",
    "# each instance of the class contains a branch name, node name, and a list of its children (empty when initialised)\n",
    "# can add as many children as you like (not a binary tree)\n",
    "# nodes do not have references to their parents\n",
    "class tree:\n",
    "    def __init__(self, branch_name, node_name):\n",
    "        self.branch = branch_name\n",
    "        self.node = node_name\n",
    "        self.children = []\n",
    "        \n",
    "    def add_child(self, child_branch):\n",
    "        self.children.append(child_branch)\n",
    "        \n",
    "# recursively draws the tree by printing the current node, and then calling itself on the node's children\n",
    "# must be called with input 0 (indicates the first time the method is called, level 0)\n",
    "    def draw_tree(self, level):\n",
    "        if level == 0:\n",
    "            print(\"root node:\", self.node)\n",
    "        else:\n",
    "            print(level*\"     \", \"> --\", self.branch, \"--\", self.node)\n",
    "        if self.children != []:\n",
    "            level = level + 1\n",
    "            for child in self.children:\n",
    "                child.draw_tree(level)"
   ]
  },
  {
   "cell_type": "code",
   "execution_count": 2,
   "metadata": {},
   "outputs": [],
   "source": [
    "#calculates entropy given one probability\n",
    "def get_entropy(probability):\n",
    "    \n",
    "# get 2nd probability from the first\n",
    "# we know there are only two probabilities because there are 2 classes\n",
    "    p1 = probability\n",
    "    p2 = 1 - p1\n",
    "    if p1 == 0 or p2 == 0:  #math.log will complain if we give it zero\n",
    "        entropy = 0         #convention of entropy calculation\n",
    "    else:\n",
    "        entropy = -( p1*math.log(p1, 2) + p2*math.log(p2, 2) )    #entropy formula\n",
    "    return entropy"
   ]
  },
  {
   "cell_type": "code",
   "execution_count": 83,
   "metadata": {},
   "outputs": [],
   "source": [
    "# calculate gain of a given feature for a given distribution\n",
    "def calculate_gain(distribution, entropy_of_dist, feature, feature_values):        \n",
    "# get gain of the feature using formula\n",
    "    gain = entropy_of_dist\n",
    "    for f in feature_values:\n",
    "        if len(distribution.loc[distribution[feature] == f]) == 0:\n",
    "            entropy_of_feature = 0\n",
    "        else:\n",
    "            entropy_of_feature = get_entropy( len(distribution.loc[(distribution[\"class\"] == \"e\") & (distribution[feature] == f)]) / len(distribution.loc[distribution[feature] == f]) )\n",
    "        gain = gain - 1/len(distribution) * (len(distribution.loc[distribution[feature] == f])) * entropy_of_feature\n",
    "    \n",
    "    return gain"
   ]
  },
  {
   "cell_type": "code",
   "execution_count": 74,
   "metadata": {},
   "outputs": [],
   "source": [
    "# finds the feature with the highest gain given a distribution(dataset)\n",
    "# feature_values is a dictionary containing the feature values for each feature, the keys are names\n",
    "def get_next_feature(distribution, entropy, feature_names, feature_values):\n",
    "        \n",
    "    best_gain = 0\n",
    "    best_feature = \"\"\n",
    "    for feature in feature_names:\n",
    "        new_gain = calculate_gain(distribution, entropy, feature, feature_values[feature])\n",
    "        if  new_gain > best_gain:\n",
    "            best_gain = new_gain\n",
    "            best_feature = feature\n",
    "            \n",
    "    return best_feature"
   ]
  },
  {
   "cell_type": "code",
   "execution_count": 176,
   "metadata": {},
   "outputs": [],
   "source": [
    "# creates a branch of the tree and then calls itself recursively until either entropy is zero or the number of features\n",
    "# to check has run out\n",
    "\n",
    "# for each branch of the tree except the root, the branch name is the feature value of the parent of the branch\n",
    "# the node name is the name of the next feature\n",
    "# if the tree has reached an ending point, the node name is the proportion of that subset of the data which is edible\n",
    "def create_branch(root, distribution, feature_values, feature_names):\n",
    "# create copies of the feature names and values since these will be edited, but other calls to this function\n",
    "# might need the original lists\n",
    "    use_feature_values = copy.deepcopy(feature_values)\n",
    "    use_feature_names = copy.deepcopy(feature_names)\n",
    "            \n",
    "    if len(distribution) == 0:     # if there is nothing in the distribution to check, leave the function\n",
    "        return\n",
    "    else:                          # if there is something to check, get the entropy of the data\n",
    "        edible_count = len(distribution.loc[distribution[\"class\"]==\"e\"])\n",
    "        probability = edible_count/len(distribution)\n",
    "        entropy = get_entropy(probability)\n",
    "\n",
    "# if entropy is zero or there are no more features left to check, give the final probability of being edible\n",
    "    if entropy == 0 or len(feature_values) == 0 or ( len(feature_values)==1 and len(distribution[feature_names[0]].unique())==1 ):\n",
    "        probability = int(probability*100)\n",
    "        root.node = str(probability) + \" % probability of being edible\"\n",
    "        \n",
    "# if entropy is not zero and there are still features to check\n",
    "# get the feature with the most gain and set the node name of the current branch (input root) to that feature name\n",
    "# then call this function for each child\n",
    "    else:\n",
    "        if len(feature_values) == 1:\n",
    "            next_feature = use_feature_names[0]\n",
    "        else:\n",
    "            next_feature = get_next_feature(distribution, entropy, use_feature_names, use_feature_values)\n",
    "        next_feature_values = use_feature_values.pop(next_feature)\n",
    "        use_feature_names.remove(next_feature)\n",
    "        root.node = next_feature\n",
    "    \n",
    "        for f in next_feature_values:\n",
    "            if len((distribution.drop(columns = next_feature)).loc[data[next_feature] == f]) > 0:\n",
    "                tree_branch = tree(f, \"node_name\")\n",
    "                root.add_child(tree_branch)\n",
    "                create_branch(tree_branch, (distribution.drop(columns = next_feature)).loc[data[next_feature] == f], use_feature_values, use_feature_names)"
   ]
  },
  {
   "cell_type": "code",
   "execution_count": 138,
   "metadata": {},
   "outputs": [],
   "source": [
    "# creates the root node of the tree and then calls create branch for the first time\n",
    "def create_tree(distribution, features_to_use):\n",
    "\n",
    "    feature_values = {}\n",
    "    for f in features_to_use:\n",
    "        feature_values[f] = (list(distribution[f].unique()))\n",
    "        \n",
    "    root = tree(\"root\", \"first feature\")\n",
    "    create_branch(root, distribution[[\"class\"] + features_to_use], feature_values, features_to_use)\n",
    "    return root"
   ]
  },
  {
   "cell_type": "code",
   "execution_count": 216,
   "metadata": {},
   "outputs": [],
   "source": [
    "# test a tree given the root node and test data\n",
    "# appends the true and predicted classes to predicted and truth lists\n",
    "def test_tree(tree_root, test_data, predicted, truth):\n",
    "    \n",
    "# if at end of a branch:\n",
    "# append the predicted class (edible if probability > 50) to predicted list, and true class to truth\n",
    "# -1 for poisonous, 1 for edible\n",
    "    if tree_root.children == []:\n",
    "        for i in range(len(test_data)):\n",
    "            if int(tree_root.node.split(\" \")[0]) > 50:\n",
    "                predicted.append(1)\n",
    "            else:\n",
    "                predicted.append(-1)\n",
    "            \n",
    "            if test_data.iloc[i][0] == \"e\":\n",
    "                truth.append(1)\n",
    "            else:\n",
    "                truth.append(-1)\n",
    "# call this function for each child of the current node\n",
    "    else:    \n",
    "        feature = tree_root.node\n",
    "        for child in tree_root.children:\n",
    "            test_tree(child, test_data.loc[test_data[feature] == child.branch], predicted, truth)"
   ]
  },
  {
   "cell_type": "code",
   "execution_count": 237,
   "metadata": {},
   "outputs": [],
   "source": [
    "# calls test_tree for the first time and get the accuracy of the tree\n",
    "# plots a confusion matrix of the results\n",
    "def get_accuracy(tree_root, test_data):\n",
    "    predicted_classes = []\n",
    "    true_classes = []\n",
    "    \n",
    "    test_tree(tree_root, test_data, predicted_classes, true_classes)\n",
    "    \n",
    "    cm = confusion_matrix(true_classes, predicted_classes)\n",
    "\n",
    "#plot confusion matrix\n",
    "    title = \"Confusion Matrix\"\n",
    "    classes = ['poisonous','edible']\n",
    "    cmap=plt.cm.BuPu\n",
    "    plt.imshow(cm, interpolation='nearest', cmap=cmap)\n",
    "    plt.title(title)\n",
    "    tick_marks = np.arange(len(classes))\n",
    "    plt.xticks(tick_marks, classes)\n",
    "    plt.yticks(tick_marks, classes)\n",
    "\n",
    "    if cm.max() > 1:\n",
    "        thresh = cm.max()/2\n",
    "    else:\n",
    "        thresh = 1\n",
    "    for i, j in itertools.product(range(cm.shape[0]), range(cm.shape[1])):\n",
    "        plt.text(j, i, format(cm[i, j], 'd'),\n",
    "                horizontalalignment=\"center\",\n",
    "                color=\"white\" if cm[i, j] > thresh else \"black\")\n",
    "\n",
    "    plt.tight_layout()\n",
    "    plt.ylabel('True label')\n",
    "    plt.xlabel('Predicted label')\n",
    "    plt.show()\n",
    "    \n",
    "#find accuracy\n",
    "    accuracy = (cm[0][0] + cm[1][1])/(len(test_data))*100\n",
    "    print(\"Accuracy = \", accuracy, \"%\")"
   ]
  },
  {
   "cell_type": "code",
   "execution_count": null,
   "metadata": {},
   "outputs": [],
   "source": []
  }
 ],
 "metadata": {
  "kernelspec": {
   "display_name": "Python 3",
   "language": "python",
   "name": "python3"
  },
  "language_info": {
   "codemirror_mode": {
    "name": "ipython",
    "version": 3
   },
   "file_extension": ".py",
   "mimetype": "text/x-python",
   "name": "python",
   "nbconvert_exporter": "python",
   "pygments_lexer": "ipython3",
   "version": "3.6.4"
  }
 },
 "nbformat": 4,
 "nbformat_minor": 2
}
