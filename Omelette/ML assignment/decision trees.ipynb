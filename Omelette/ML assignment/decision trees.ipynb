{
 "cells": [
  {
   "cell_type": "code",
   "execution_count": 127,
   "metadata": {},
   "outputs": [
    {
     "name": "stdout",
     "output_type": "stream",
     "text": [
      "root node: odor\n",
      "      > -- p -- 0 % probability of being edible\n",
      "      > -- y -- 0 % probability of being edible\n",
      "      > -- m -- 0 % probability of being edible\n",
      "      > -- n -- spore-print-colour\n",
      "           > -- k -- 100 % probability of being edible\n",
      "           > -- o -- 100 % probability of being edible\n",
      "           > -- y -- 100 % probability of being edible\n",
      "           > -- w -- habitat\n",
      "                > -- p -- 100 % probability of being edible\n",
      "                > -- g -- 100 % probability of being edible\n",
      "                > -- d -- gill-size\n",
      "                     > -- b -- 100 % probability of being edible\n",
      "                     > -- n -- 0 % probability of being edible\n",
      "                > -- w -- 100 % probability of being edible\n",
      "                > -- l -- cap-colour\n",
      "                     > -- y -- 0 % probability of being edible\n",
      "                     > -- w -- 0 % probability of being edible\n",
      "                     > -- n -- 100 % probability of being edible\n",
      "                     > -- c -- 100 % probability of being edible\n",
      "           > -- n -- 100 % probability of being edible\n",
      "           > -- b -- 100 % probability of being edible\n",
      "           > -- h -- 100 % probability of being edible\n",
      "           > -- r -- 0 % probability of being edible\n",
      "      > -- a -- 100 % probability of being edible\n",
      "      > -- f -- 0 % probability of being edible\n",
      "      > -- c -- 0 % probability of being edible\n",
      "      > -- l -- 100 % probability of being edible\n",
      "      > -- s -- 0 % probability of being edible\n"
     ]
    },
    {
     "data": {
      "image/png": "[encoded data removed]",
      "text/plain": [
       "<matplotlib.figure.Figure at 0x2615c68a978>"
      ]
     },
     "metadata": {},
     "output_type": "display_data"
    },
    {
     "name": "stdout",
     "output_type": "stream",
     "text": [
      "Accuracy =  100.0 %\n"
     ]
    }
   ],
   "source": [
    "import csv\n",
    "import random\n",
    "import numpy as np\n",
    "import math\n",
    "import copy\n",
    "from sklearn.metrics import confusion_matrix\n",
    "import matplotlib.pylab as plt\n",
    "import itertools\n",
    "#import warnings\n",
    "#warnings.simplefilter('error', RuntimeWarning)\n",
    "\n",
    "with open(\"agaricus-lepiota.data\", 'r') as file:\n",
    "    data = list(csv.reader(file))\n",
    "    \n",
    "with open(\"feature-names.txt\", 'r') as file:\n",
    "    f_names = list(csv.reader(file))\n",
    "    \n",
    "f_names = f_names[0]\n",
    "\n",
    "trainingData = random.sample(data, int(len(data)*2/3))\n",
    "testingData = []\n",
    "for line in data:\n",
    "    if line not in trainingData:\n",
    "        testingData.append(line)\n",
    "\n",
    "new_tree = create_tree(trainingData, f_names)\n",
    "new_tree.draw_tree(0)\n",
    "get_accuracy(new_tree, testingData, f_names)"
   ]
  },
  {
   "cell_type": "code",
   "execution_count": 8,
   "metadata": {},
   "outputs": [],
   "source": [
    "class tree:\n",
    "    def __init__(self, branch_name, node_name):\n",
    "        self.branch = branch_name\n",
    "        self.node = node_name\n",
    "        self.children = []\n",
    "        \n",
    "    def add_child(self, child_branch):\n",
    "        self.children.append(child_branch)\n",
    "        \n",
    "    def draw_tree(self, level):\n",
    "        if level == 0:\n",
    "            print(\"root node:\", self.node)\n",
    "        else:\n",
    "            print(level*\"     \", \"> --\", self.branch, \"--\", self.node)\n",
    "        if self.children != []:\n",
    "            level = level + 1\n",
    "            for child in self.children:\n",
    "                child.draw_tree(level)"
   ]
  },
  {
   "cell_type": "code",
   "execution_count": 9,
   "metadata": {},
   "outputs": [],
   "source": [
    "#calculates entropy given one probability\n",
    "def get_entropy(probability):\n",
    "    \n",
    "# get 2nd probability from the first\n",
    "# we know there are only two probabilities because there are 2 classes\n",
    "    p1 = probability\n",
    "    p2 = 1 - p1\n",
    "    if p1 == 0 or p2 == 0:  #math.log will complain if we give it zero\n",
    "        entropy = 0         #convention of entropy calculation\n",
    "    else:\n",
    "        entropy = -( p1*math.log(p1, 2) + p2*math.log(p2, 2) )    #entropy formula\n",
    "    return entropy"
   ]
  },
  {
   "cell_type": "code",
   "execution_count": 10,
   "metadata": {},
   "outputs": [],
   "source": [
    "# calculate gain of a given feature for a given distribution\n",
    "# feature_values is an array of all the values the feature can take on\n",
    "def calculate_gain(distribution, entropy_of_dist, feature, feature_values):\n",
    "    feature_value_counts = np.zeros((3, len(feature_values)), int)\n",
    "\n",
    "# make feature_value_counts, which is a numpy matrix with num cols = num feature values, num rows = 2\n",
    "# first row is how many of each feature value is in the distribution, eg feature 2=\"a\" in 10 mushrooms\n",
    "# second row is how many edible mushrooms there are when feature=faeture_value[i]\n",
    "# third row is how many poisonous mushrooms there are when feature=faeture_value[i]\n",
    "# all for calculating the entropy for each value of the feature\n",
    "# this is weird sorry\n",
    "    for mushroom in distribution:\n",
    "        i = 0\n",
    "        for f in range(0, len(feature_values)):\n",
    "            if mushroom[feature] == feature_values[f]:\n",
    "                feature_value_counts[0, f] = feature_value_counts[0, f] + 1\n",
    "                i = f\n",
    "        if mushroom[0] == \"e\":\n",
    "            feature_value_counts[1, i] = feature_value_counts[1, i] + 1\n",
    "        else:\n",
    "            feature_value_counts[2, i] = feature_value_counts[2, i] + 1\n",
    "       \n",
    "        \n",
    "# get gain of the feature using formula\n",
    "# gets entropy for each feature value using feature_value_counts\n",
    "    gain = entropy_of_dist\n",
    "    for y in range(0, len(feature_values)):\n",
    "        if sum(feature_value_counts[1:,y]) == 0:\n",
    "            entropy_of_feature = 0\n",
    "        else:\n",
    "            entropy_of_feature = get_entropy(feature_value_counts[1, y]/sum(feature_value_counts[1:,y]))\n",
    "        gain = gain - 1/len(distribution) * (feature_value_counts[0, y]) * entropy_of_feature\n",
    "    \n",
    "    return gain"
   ]
  },
  {
   "cell_type": "code",
   "execution_count": 11,
   "metadata": {},
   "outputs": [],
   "source": [
    "# finds the feature with the highest gain given a distribution(dataset)\n",
    "# feature_values is a matrix where row i contains the feature values for feature i+1\n",
    "# its i+1 not i because the first element in every row of the dataset is \"p\" or \"e\", the class label\n",
    "def get_next_feature(distribution, entropy, num_features, feature_values):\n",
    "    #edible_count = 0\n",
    "    #for mushroom in distribution:\n",
    "        #if mushroom[0] == \"e\":\n",
    "            #edible_count = edible_count + 1\n",
    "            \n",
    "    #entropy = get_entropy(edible_count/len(distribution))\n",
    "        \n",
    "    best_gain = 0\n",
    "    best_feature = 0\n",
    "    for feature in range(1, num_features+1):\n",
    "        new_gain = calculate_gain(distribution, entropy, feature, feature_values[feature-1])\n",
    "        if  new_gain > best_gain:\n",
    "            best_gain = new_gain\n",
    "            best_feature = feature\n",
    "            \n",
    "    return best_feature"
   ]
  },
  {
   "cell_type": "code",
   "execution_count": 128,
   "metadata": {},
   "outputs": [],
   "source": [
    "# split the distribution based on the feature chosen in get_next_feature\n",
    "# feature_values is a list of the values the feature can take on\n",
    "# returns as many new distributions as there are feature values\n",
    "# removes the feature we split on from the distribution, since we dont need to check it anymore\n",
    "def split_dist(distro, feature, feature_values):\n",
    "    distribution = copy.deepcopy(distro)\n",
    "    new_distributions = []\n",
    "    for i in feature_values:\n",
    "        new_distributions.append([i])\n",
    "\n",
    "    for mushroom in distribution:\n",
    "        f = 0\n",
    "        for y in range(0, len(feature_values)):\n",
    "            if mushroom[feature] == feature_values[y]:\n",
    "                f = y\n",
    "        \n",
    "        mushroom.pop(feature)\n",
    "        new_distributions[f].append(mushroom)\n",
    "        \n",
    "    new_distributions = [x for x in new_distributions if len(x)!= 1]\n",
    "    \n",
    "    return new_distributions"
   ]
  },
  {
   "cell_type": "code",
   "execution_count": 133,
   "metadata": {},
   "outputs": [],
   "source": [
    "# creates a branch of the tree and then calls itself recursively until either entropy is zero or the number of features\n",
    "# to check has run out\n",
    "def create_branch(root, distribution, feature_values, feature_names, num_features):\n",
    "    use_feature_values = copy.deepcopy(feature_values)\n",
    "    use_feature_names = copy.deepcopy(feature_names)\n",
    "            \n",
    "    if len(distribution) == 0:\n",
    "        return\n",
    "    else:\n",
    "        edible_count = 0\n",
    "        for mushroom in distribution:\n",
    "            if mushroom[0] == \"e\":\n",
    "                edible_count = edible_count + 1\n",
    "                \n",
    "        probability = edible_count/len(distribution)\n",
    "        entropy = get_entropy(probability)\n",
    "\n",
    "    \n",
    "    if entropy == 0 or num_features == 0:\n",
    "        probability = int(probability*100)\n",
    "        root.node = str(probability) + \" % probability of being edible\"\n",
    "    else:\n",
    "        next_feature = get_next_feature(distribution, entropy, num_features, use_feature_values)\n",
    "        next_branches = split_dist(distribution, next_feature, use_feature_values[next_feature-1])\n",
    "        next_feature_name = use_feature_names[next_feature-1]\n",
    "    \n",
    "        use_feature_values.pop(next_feature-1)\n",
    "        use_feature_names.pop(next_feature-1)\n",
    "        \n",
    "        root.node = next_feature_name\n",
    "    \n",
    "        for branch in next_branches:\n",
    "            tree_branch = tree(branch[0], \"node_name\")\n",
    "            root.add_child(tree_branch)\n",
    "            create_branch(tree_branch, branch[1:], use_feature_values, use_feature_names, num_features - 1)"
   ]
  },
  {
   "cell_type": "code",
   "execution_count": 71,
   "metadata": {},
   "outputs": [],
   "source": [
    "# theoretically done but unable to test until create_branch is done\n",
    "def create_tree(distribution, feature_names):\n",
    "    \n",
    "    num_features = len(feature_names)\n",
    "    feature_values = []\n",
    "    for f in range(num_features):\n",
    "        l = []\n",
    "        for m in distribution:\n",
    "            l.append(m[f+1])\n",
    "        \n",
    "        feature_values.append(list(set(l)))\n",
    "        \n",
    "    root = tree(\"root\", \"first feature\")\n",
    "    create_branch(root, distribution, feature_values, feature_names, num_features)\n",
    "    return root"
   ]
  },
  {
   "cell_type": "code",
   "execution_count": 129,
   "metadata": {},
   "outputs": [],
   "source": [
    "def test_tree(tree_root, test_data, feature_names, predicted, truth):\n",
    "      \n",
    "#if at end of a branch\n",
    "    if tree_root.children == []:\n",
    "        for t in test_data:\n",
    "            if int(tree_root.node.split(\" \")[0]) > 50:\n",
    "                predicted.append(1)\n",
    "            else:\n",
    "                predicted.append(-1)\n",
    "            \n",
    "            if t[0] == \"e\":\n",
    "                truth.append(1)\n",
    "            else:\n",
    "                truth.append(-1)\n",
    "    else:    \n",
    "        use_feature_names = copy.deepcopy(feature_names)\n",
    "        feature = tree_root.node\n",
    "        feature_index = use_feature_names.index(feature) + 1\n",
    "    \n",
    "        feature_values_test = []\n",
    "        for child in tree_root.children:\n",
    "            feature_values_test.append(child.branch)\n",
    "    \n",
    "        split_tests = split_dist(test_data, feature_index, feature_values_test)\n",
    "        use_feature_names.pop(feature_index - 1)\n",
    "    \n",
    "        for tests in split_tests:\n",
    "            for child in tree_root.children:\n",
    "                if child.branch == tests[0]:\n",
    "                    test_tree(child, tests[1:], use_feature_names, predicted, truth)\n",
    "    "
   ]
  },
  {
   "cell_type": "code",
   "execution_count": 126,
   "metadata": {},
   "outputs": [],
   "source": [
    "def get_accuracy(tree_root, test_data, feature_names):\n",
    "    predicted_classes = []\n",
    "    true_classes = []\n",
    "    \n",
    "    test_tree(tree_root, test_data, feature_names, predicted_classes, true_classes)\n",
    "    \n",
    "    cm = confusion_matrix(true_classes, predicted_classes)\n",
    "\n",
    "#plot confusion matrix\n",
    "    title = \"Confusion Matrix\"\n",
    "    classes = ['poisonous','edible']\n",
    "    cmap=plt.cm.BuPu\n",
    "    plt.imshow(cm, interpolation='nearest', cmap=cmap)\n",
    "    plt.title(title)\n",
    "    tick_marks = np.arange(len(classes))\n",
    "    plt.xticks(tick_marks, classes)\n",
    "    plt.yticks(tick_marks, classes)\n",
    "\n",
    "    if cm.max() > 1:\n",
    "        thresh = cm.max()/2\n",
    "    else:\n",
    "        thresh = 1\n",
    "    for i, j in itertools.product(range(cm.shape[0]), range(cm.shape[1])):\n",
    "        plt.text(j, i, format(cm[i, j], 'd'),\n",
    "                horizontalalignment=\"center\",\n",
    "                color=\"white\" if cm[i, j] > thresh else \"black\")\n",
    "\n",
    "    plt.tight_layout()\n",
    "    plt.ylabel('True label')\n",
    "    plt.xlabel('Predicted label')\n",
    "    plt.show()\n",
    "    \n",
    "#find accuracy\n",
    "    accuracy = (cm[0][0] + cm[1][1])/(len(test_data))*100\n",
    "    print(\"Accuracy = \", accuracy, \"%\")"
   ]
  },
  {
   "cell_type": "code",
   "execution_count": 132,
   "metadata": {},
   "outputs": [
    {
     "name": "stdout",
     "output_type": "stream",
     "text": [
      "['e', 'A', 'no', 'yes']\n",
      "['p', 'C', 'yes', 'no']\n",
      "['e', 'C', 'no', 'yes']\n",
      "['e', 'B', 'yes', 'yes']\n",
      "['p', 'B', 'no', 'no']\n",
      "['e', 'C', 'yes', 'no']\n",
      "['p', 'A', 'no', 'no']\n",
      "['e', 'B', 'yes', 'no']\n",
      "root node: doing tuts?\n",
      "      > -- no -- doing labs?\n",
      "           > -- no -- 0 % probability of being edible\n",
      "           > -- yes -- coms2 mark\n",
      "                > -- C -- 50 % probability of being edible\n",
      "                > -- B -- 100 % probability of being edible\n",
      "      > -- yes -- 100 % probability of being edible\n"
     ]
    }
   ],
   "source": [
    "# testing using the last question in the decision trees tut\n",
    "# data for this is in coms3.txt\n",
    "with open(\"coms3.txt\", 'r') as file:\n",
    "    test = list(csv.reader(file))\n",
    "    \n",
    "\n",
    "for line in test:\n",
    "    print(line)\n",
    "\n",
    "tr = create_tree(test, [\"coms2 mark\", \"doing labs?\", \"doing tuts?\"])\n",
    "tr.draw_tree(0)\n",
    "pred = []\n",
    "tru = []\n",
    "testy = [['e', 'B', 'yes', 'yes'],['e', 'C', 'yes', 'no'], ['e', 'A', 'no', 'yes']]\n"
   ]
  },
  {
   "cell_type": "code",
   "execution_count": 131,
   "metadata": {},
   "outputs": [
    {
     "data": {
      "image/png": "[encoded data removed]",
      "text/plain": [
       "<matplotlib.figure.Figure at 0x2615ee11f28>"
      ]
     },
     "metadata": {},
     "output_type": "display_data"
    },
    {
     "name": "stdout",
     "output_type": "stream",
     "text": [
      "Accuracy =  66.66666666666666 %\n"
     ]
    }
   ],
   "source": [
    "get_accuracy(tr, testy, [\"coms2 mark\", \"doing labs?\", \"doing tuts?\"])"
   ]
  },
  {
   "cell_type": "code",
   "execution_count": null,
   "metadata": {},
   "outputs": [],
   "source": []
  }
 ],
 "metadata": {
  "kernelspec": {
   "display_name": "Python 3",
   "language": "python",
   "name": "python3"
  },
  "language_info": {
   "codemirror_mode": {
    "name": "ipython",
    "version": 3
   },
   "file_extension": ".py",
   "mimetype": "text/x-python",
   "name": "python",
   "nbconvert_exporter": "python",
   "pygments_lexer": "ipython3",
   "version": "3.6.4"
  }
 },
 "nbformat": 4,
 "nbformat_minor": 2
}
